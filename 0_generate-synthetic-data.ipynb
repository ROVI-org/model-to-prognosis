{
 "cells": [
  {
   "cell_type": "markdown",
   "id": "1a4c6405-3c35-4919-a2e3-a857b4630b8b",
   "metadata": {},
   "source": [
    "# Generate a Set of Synthetic Data\n",
    "Generate synthetic data which looks somewhat like a cell from the [CAMP dataset](https://doi.org/10.18126/fdxq-7yul)."
   ]
  },
  {
   "cell_type": "code",
   "execution_count": 1,
   "id": "370d0763-589f-43b2-a133-99bcd0406433",
   "metadata": {},
   "outputs": [],
   "source": [
    "%matplotlib inline\n",
    "from moirae.models.ecm import EquivalentCircuitModel as ECM\n",
    "from moirae.models.ecm.components import Resistance, OpenCircuitVoltage, MaxTheoreticalCapacity, ReferenceOCV\n",
    "from moirae.models.ecm import ECMASOH, ECMTransientVector, ECMInput, ECMMeasurement\n",
    "from moirae.simulator import Simulator\n",
    "from moirae.interface import run_online_estimate\n",
    "from moirae import __version__ as moirae_version\n",
    "from matplotlib import pyplot as plt\n",
    "from scipy.interpolate import interp1d\n",
    "from batdata.data import BatteryDataset\n",
    "from batdata.schemas.modeling import ModelMetadata\n",
    "from shutil import copyfileobj\n",
    "from hashlib import sha256\n",
    "from pathlib import Path\n",
    "from tqdm import tqdm\n",
    "import numpy as np\n",
    "import requests"
   ]
  },
  {
   "cell_type": "markdown",
   "id": "7f2f15e2-fc5e-4619-89be-5239b3b851d0",
   "metadata": {},
   "source": [
    "Configuration"
   ]
  },
  {
   "cell_type": "code",
   "execution_count": 2,
   "id": "a05e7ebd-c5bc-40b0-84b7-77e83fbdabd7",
   "metadata": {},
   "outputs": [],
   "source": [
    "data_url = 'https://data.materialsdatafacility.org/mdf_open/camp_2023_v3.5/hdf5/refined/batch_B28A_cell_39.h5'\n",
    "template_dir = Path('template-data')  # Where to store the tempalte data\n",
    "num_soc_steps: int = 17  # Number of interpolation steps in the OCV measurement\n",
    "timestep_duration: float = 5.  # Time between measurements in seconds\n",
    "output_dir = Path('synth-data')"
   ]
  },
  {
   "cell_type": "code",
   "execution_count": 3,
   "id": "f7c31634-2789-464c-a4ff-2a27f274899d",
   "metadata": {},
   "outputs": [],
   "source": [
    "template_dir.mkdir(exist_ok=True)\n",
    "output_dir.mkdir(exist_ok=True)"
   ]
  },
  {
   "cell_type": "markdown",
   "id": "f98fba0d-cc8a-4288-aafe-a53acb287adc",
   "metadata": {},
   "source": [
    "## Download and Parse the Data\n",
    "Download the data using HTTP and store locally"
   ]
  },
  {
   "cell_type": "code",
   "execution_count": 4,
   "id": "a364f83e-146d-42ce-bad9-9d3a154af168",
   "metadata": {},
   "outputs": [
    {
     "name": "stdout",
     "output_type": "stream",
     "text": [
      "Saving data to template-data\\batch_B28A_cell_39.h5\n"
     ]
    }
   ],
   "source": [
    "data_path = template_dir / data_url.split(\"/\")[-1]\n",
    "print(f'Saving data to {data_path}')"
   ]
  },
  {
   "cell_type": "markdown",
   "id": "1b1ed8ed-51fc-4c02-af0c-15a43bb13024",
   "metadata": {},
   "source": [
    "Download if not present"
   ]
  },
  {
   "cell_type": "code",
   "execution_count": 5,
   "id": "ba583578-20d6-43c5-881d-4d9222ff47c2",
   "metadata": {},
   "outputs": [],
   "source": [
    "if not data_path.exists():\n",
    "    with data_path.open('wb') as fp:\n",
    "        copyfileobj(requests.get(data_url, stream=True).raw, fp)"
   ]
  },
  {
   "cell_type": "code",
   "execution_count": 6,
   "id": "661c3da3-164b-42e5-9832-b7b51cd8ef30",
   "metadata": {},
   "outputs": [],
   "source": [
    "template_dataset = BatteryDataset.from_batdata_hdf(data_path)"
   ]
  },
  {
   "cell_type": "markdown",
   "id": "cd24d9b1-a645-482c-95ac-ab17449f08ca",
   "metadata": {},
   "source": [
    "## Get Initial Parameter Estimates for Equivalent Circuit Parameters\n",
    "Let's start with some educated guesses for the parameters. \n",
    "\n",
    "First up, make a model for the open circuit voltage using a regular cycle"
   ]
  },
  {
   "cell_type": "code",
   "execution_count": 7,
   "id": "1bc419aa-cdd7-4374-bc42-15273ebe00d3",
   "metadata": {},
   "outputs": [],
   "source": [
    "initial_cycles = template_dataset.raw_data.query('24 < cycle_number < 40')  # Get cycles after some initial tests"
   ]
  },
  {
   "cell_type": "code",
   "execution_count": 8,
   "id": "b45e8e3e-2b21-4db8-a6e3-22d00ced2d3b",
   "metadata": {},
   "outputs": [
    {
     "data": {
      "image/png": "[encoded data removed]",
      "text/plain": [
       "<Figure size 350x210 with 1 Axes>"
      ]
     },
     "metadata": {},
     "output_type": "display_data"
    }
   ],
   "source": [
    "fig, ax = plt.subplots(figsize=(3.5, 2.1))\n",
    "\n",
    "ax.plot(initial_cycles['test_time'] / 3600, -initial_cycles['cycle_capacity'])\n",
    "\n",
    "ax.set_xlabel('Test Time (hr)')\n",
    "ax.set_ylabel('$\\Delta$ Charge (A-hr)')\n",
    "fig.tight_layout()"
   ]
  },
  {
   "cell_type": "markdown",
   "id": "f2540a7f-0625-47da-82fc-092d09105b43",
   "metadata": {},
   "source": [
    "Estimate a capacity by getting the maximum amount of energy added to the battery"
   ]
  },
  {
   "cell_type": "code",
   "execution_count": 9,
   "id": "206471d9-5dc0-4b3d-91ab-a93f2a27dfd1",
   "metadata": {},
   "outputs": [
    {
     "data": {
      "text/plain": [
       "count    15.000000\n",
       "mean      0.346770\n",
       "std       0.004931\n",
       "min       0.339110\n",
       "25%       0.342624\n",
       "50%       0.347348\n",
       "75%       0.350804\n",
       "max       0.353956\n",
       "Name: cycle_capacity, dtype: float64"
      ]
     },
     "execution_count": 9,
     "metadata": {},
     "output_type": "execute_result"
    }
   ],
   "source": [
    "cycle_capacities = -initial_cycles.groupby('cycle_number')['cycle_capacity'].min()\n",
    "cycle_capacities.describe()"
   ]
  },
  {
   "cell_type": "code",
   "execution_count": 10,
   "id": "f9a9c904-be07-496a-aa55-9c46abc629c5",
   "metadata": {},
   "outputs": [
    {
     "name": "stdout",
     "output_type": "stream",
     "text": [
      "Initial capacity estimate is 0.35 A-hr\n"
     ]
    }
   ],
   "source": [
    "initial_capacity = cycle_capacities.median()\n",
    "print(f'Initial capacity estimate is {initial_capacity:.2f} A-hr')"
   ]
  },
  {
   "cell_type": "markdown",
   "id": "e24656bf-3fba-4228-9558-f4aaa9c31047",
   "metadata": {},
   "source": [
    "Estimate the Open Circuit Voltage by measuring the voltage at different states of charge during both charge and discharge"
   ]
  },
  {
   "cell_type": "code",
   "execution_count": 11,
   "id": "97c9f020-e7ec-4541-8d29-6f19cfcc69bf",
   "metadata": {},
   "outputs": [],
   "source": [
    "discharging = initial_cycles.query('state == \"discharging\"')\n",
    "charging = initial_cycles.query('state == \"charging\"')"
   ]
  },
  {
   "cell_type": "code",
   "execution_count": 12,
   "id": "8130b110-e518-46c3-8ca5-79e9417dcd41",
   "metadata": {},
   "outputs": [],
   "source": [
    "def get_voltage_measurments(subset):\n",
    "    \"\"\"Determine measurements at different SOCs\"\"\"\n",
    "\n",
    "    voltage_steps = np.zeros((len(set(subset['cycle_number'])), num_soc_steps))\n",
    "    for i, (_, group) in enumerate(subset.groupby('cycle_number')):\n",
    "        group = group.sort_values('cycle_capacity')\n",
    "        f = interp1d(-group['cycle_capacity'], group['voltage'])\n",
    "        steps = np.linspace(\n",
    "            -group['cycle_capacity'].max(), \n",
    "            -group['cycle_capacity'].min(),\n",
    "            num_soc_steps\n",
    "        )\n",
    "        voltage_steps[i, :] = f(steps)\n",
    "    return voltage_steps.mean(axis=0)"
   ]
  },
  {
   "cell_type": "code",
   "execution_count": 13,
   "id": "89b13703-02dd-4b76-85fb-e62e60c5a164",
   "metadata": {},
   "outputs": [],
   "source": [
    "discharge_volt = get_voltage_measurments(discharging)\n",
    "charge_volt = get_voltage_measurments(charging)\n",
    "ocv = 0.5 * (discharge_volt + charge_volt)"
   ]
  },
  {
   "cell_type": "code",
   "execution_count": 14,
   "id": "eae01b6d-2abe-4497-a995-4ec42895479e",
   "metadata": {},
   "outputs": [
    {
     "data": {
      "image/png": "[encoded data removed]",
      "text/plain": [
       "<Figure size 350x210 with 1 Axes>"
      ]
     },
     "metadata": {},
     "output_type": "display_data"
    }
   ],
   "source": [
    "fig, ax = plt.subplots(figsize=(3.5, 2.1))\n",
    "\n",
    "soc_values = np.linspace(0, 1, num_soc_steps)\n",
    "for subset, points, color in [(discharging, discharge_volt, 'blue'), (charging, charge_volt, 'red')]:\n",
    "    for gid, group in subset.groupby('cycle_number'):\n",
    "        ax.plot(-group['cycle_capacity'] / initial_capacity, group['voltage'], alpha=0.1, color=color)\n",
    "    ax.scatter(soc_values, points, marker='o', color=color)\n",
    "ax.plot(soc_values, ocv, '--x', color='purple')\n",
    "\n",
    "ax.set_xlabel('SOC')\n",
    "ax.set_ylabel('V')\n",
    "fig.tight_layout()"
   ]
  },
  {
   "cell_type": "markdown",
   "id": "c4cd6140-fa07-4d16-973f-fc60e14f46c1",
   "metadata": {},
   "source": [
    "Estimate a SOC-dependent series resistance based on the difference in voltage between charge and discharge and the charge difference\n",
    "\n",
    "$V_c - V_d = OCV + I_c R - (OCV - I_d R) = (I_c + I_d)R$"
   ]
  },
  {
   "cell_type": "code",
   "execution_count": 15,
   "id": "d8698b25-9663-4683-89e8-4208db6b6ddb",
   "metadata": {},
   "outputs": [
    {
     "name": "stdout",
     "output_type": "stream",
     "text": [
      "Charge current 0.1 A. Discharge current 0.2 A\n"
     ]
    }
   ],
   "source": [
    "charge_current = charging['current'].abs().mean()\n",
    "discharge_current = discharging['current'].abs().mean()\n",
    "print(f'Charge current {charge_current:.1f} A. Discharge current {discharge_current:.1f} A')"
   ]
  },
  {
   "cell_type": "code",
   "execution_count": 16,
   "id": "4731bcdd-f5ff-48b6-ba6d-fbf8705a6681",
   "metadata": {},
   "outputs": [],
   "source": [
    "r_serial = (charge_volt - discharge_volt) / (discharge_current + charge_current)\n",
    "r_serial /= 10  # The r0 estimate is too large because we're not including other sources of resistance"
   ]
  },
  {
   "cell_type": "markdown",
   "id": "b5f09f27-5684-4ba5-9ea0-6ae33715d1f2",
   "metadata": {},
   "source": [
    "## Build Functions to Generate Data\n",
    "We'll need a tool to generate an initial set of model parameters and "
   ]
  },
  {
   "cell_type": "code",
   "execution_count": 17,
   "id": "271ea594-1c36-4329-a456-535a5594874e",
   "metadata": {},
   "outputs": [],
   "source": [
    "def build_initial(\n",
    "    q_t: float = initial_capacity,\n",
    "    r0: np.ndarray = r_serial,\n",
    "    ocv_ref: np.ndarray = ocv,\n",
    ") -> tuple[ECMASOH, ECMTransientVector]:\n",
    "    \"\"\"Build an initial set of parameters \n",
    "\n",
    "    Args:\n",
    "        q_t: Theoretical capacity\n",
    "        r0: Values for the serial resistance at different SOCs\n",
    "        ocv_ref: OCV at different SOCs\n",
    "    Returns\n",
    "        Tuple of health parameters and initial transient state\n",
    "    \"\"\"\n",
    "    \n",
    "    asoh = ECMASOH(\n",
    "        q_t=MaxTheoreticalCapacity(base_values=initial_capacity),\n",
    "        r0=Resistance(base_values=r0),\n",
    "        ocv=OpenCircuitVoltage(\n",
    "            ocv_ref=ReferenceOCV(base_values=ocv_ref, interpolation_style='cubic'),\n",
    "            ocv_ent={'base_values': 0}\n",
    "        )\n",
    "    )\n",
    "    \n",
    "    ecm_start = ECMTransientVector(soc=1.)\n",
    "    return asoh, ecm_start"
   ]
  },
  {
   "cell_type": "code",
   "execution_count": 18,
   "id": "4509dc31-f139-419e-bfd6-9c83a24060df",
   "metadata": {},
   "outputs": [],
   "source": [
    "asoh_start, state_start = build_initial()"
   ]
  },
  {
   "cell_type": "markdown",
   "id": "ab12b6a7-5a8d-4ef9-91ac-8a8a346102b7",
   "metadata": {},
   "source": [
    "Create a tool to generate a random cycle"
   ]
  },
  {
   "cell_type": "code",
   "execution_count": 19,
   "id": "2d467c94-0006-4ce8-891d-8da9888bf712",
   "metadata": {},
   "outputs": [],
   "source": [
    "def cycle_protocol(asoh: ECMASOH, rng: np.random.RandomState, start_time: float = 0.0):\n",
    "    \"\"\"\n",
    "    Function to return list of ECMInputs corresponding to a new cycle\n",
    "\n",
    "    Args: \n",
    "        asoh: A-SOH object to be used\n",
    "        rng: Random number generator\n",
    "        start_time: time at which to start this cycle in seconds\n",
    "    \n",
    "    Yields:\n",
    "        A progression of ECMInputs for the cycle\n",
    "    \"\"\"\n",
    "\n",
    "    # Get the Qt and CE, which will help determine the currents\n",
    "    qt = asoh.q_t.amp_hour\n",
    "    ce = asoh.ce\n",
    "\n",
    "    # Now, let's choose rest durations and C-rates\n",
    "    rest0, rest1, rest2 = rng.integers(low=5, high=10, size=3)\n",
    "    rest0 *= 60\n",
    "    rest1 *= 2 * 60\n",
    "    rest2 *= 60\n",
    "    dischg_rate, chg_rate = np.array([1.5, 0.5]) + rng.random(size=2)\n",
    "\n",
    "    # TODO (wardlt): Victor's original implementation had randomly-sized timesteps\n",
    "    # I've opted to go with fixed size for now\n",
    "    current_time = start_time\n",
    "    def update_timestamps_curr(current_time: float, duration: float, curr: float) -> None:\n",
    "        \"\"\"\n",
    "        Helper to populate timestamps and currents.\n",
    "\n",
    "        Args:\n",
    "            duration: duration of segment in seconds\n",
    "            curr: value of current to be used. \n",
    "        Yields: \n",
    "            A series of ECM inputs at gradually-increaseing times\n",
    "        \"\"\"\n",
    "        steps = int(np.ceil(duration / timestep_duration))\n",
    "        for time in np.linspace(current_time, current_time + duration, steps + 1)[:-1]:\n",
    "            yield ECMInput(time=time, current=curr)\n",
    "\n",
    "    # Rest 0\n",
    "    yield from update_timestamps_curr(current_time, duration=rest0, curr=0.0)\n",
    "    current_time += rest0\n",
    "\n",
    "    # Discharge\n",
    "    dischg_duration = 3600.0 / dischg_rate\n",
    "    dischg_curr = -(qt * dischg_rate)\n",
    "    yield from update_timestamps_curr(current_time, duration=dischg_duration, curr=dischg_curr)\n",
    "    current_time += dischg_duration\n",
    "\n",
    "    # Rest 1\n",
    "    yield from update_timestamps_curr(current_time, duration=rest1, curr=0.0)\n",
    "    current_time += rest1\n",
    "\n",
    "    # Charge\n",
    "    chg_duration = 3600.0 / chg_rate\n",
    "    chg_curr = (qt * chg_rate) / ce\n",
    "    yield from update_timestamps_curr(current_time, duration=chg_duration, curr=chg_curr)\n",
    "    current_time += chg_duration\n",
    "\n",
    "    # Rest 2\n",
    "    yield from update_timestamps_curr(current_time, duration=rest2, curr=0.0)\n",
    "    current_time += rest2"
   ]
  },
  {
   "cell_type": "markdown",
   "id": "036a077a-2443-43da-b28d-38b0b1d06c0b",
   "metadata": {},
   "source": [
    "Simulate a few cycles"
   ]
  },
  {
   "cell_type": "code",
   "execution_count": 20,
   "id": "5e6dd10f-7400-4c00-a97d-4d182d374a04",
   "metadata": {},
   "outputs": [],
   "source": [
    "def run_simulation(num_cycles: int, asoh: ECMASOH, state: ECMTransientVector, seed: int=1) -> Simulator:\n",
    "    \"\"\"Run an ECM simulation for a set number of cycles\n",
    "\n",
    "    Args:\n",
    "        num_cycles: Number of cycles to run\n",
    "        asoh: Initial ASOH\n",
    "        state: Initial transient state\n",
    "        seed: Random seed for the cycling protocol\n",
    "    Returns:\n",
    "        Simulator object ready with history already populated\n",
    "    \"\"\"\n",
    "        \n",
    "    simulator = Simulator(\n",
    "        model=ECM(),\n",
    "        asoh=asoh,\n",
    "        initial_input=ECMInput(),\n",
    "        transient_state=state,\n",
    "        keep_history=True\n",
    "    )\n",
    "    \n",
    "    rng = np.random.default_rng(seed)\n",
    "    start_time = 0.\n",
    "    for cycles in tqdm(range(num_cycles)):\n",
    "        for inputs in cycle_protocol(simulator.asoh, rng, start_time=start_time):\n",
    "            simulator.step(inputs)\n",
    "        start_time = simulator.previous_input.time[0, 0] + timestep_duration\n",
    "    \n",
    "    return simulator"
   ]
  },
  {
   "cell_type": "code",
   "execution_count": 21,
   "id": "c364da67-d81c-441f-a679-cbdda724ae29",
   "metadata": {},
   "outputs": [
    {
     "name": "stderr",
     "output_type": "stream",
     "text": [
      "100%|██████████████████████████████████████████████████████████████████████████████████████████████████████████████████████████████████████████████████████████████████████████████████████████████████████████████████████████████████████████████████| 16/16 [00:07<00:00,  2.26it/s]\n"
     ]
    }
   ],
   "source": [
    "simulator = run_simulation(16, asoh_start, state_start)"
   ]
  },
  {
   "cell_type": "code",
   "execution_count": 22,
   "id": "fec75076-4954-4a4d-977e-ccfec32d0afb",
   "metadata": {},
   "outputs": [],
   "source": [
    "df = simulator.to_dataframe()"
   ]
  },
  {
   "cell_type": "markdown",
   "id": "be5e5573-5264-4293-be36-5c524329e21f",
   "metadata": {},
   "source": [
    "Plot the results"
   ]
  },
  {
   "cell_type": "code",
   "execution_count": 23,
   "id": "a75687ca-c650-4176-8566-f4736a4bf12f",
   "metadata": {},
   "outputs": [
    {
     "data": {
      "image/png": "[encoded data removed]",
      "text/plain": [
       "<Figure size 350x250 with 3 Axes>"
      ]
     },
     "metadata": {},
     "output_type": "display_data"
    }
   ],
   "source": [
    "fig, axs = plt.subplots(3, 1, figsize=(3.5, 2.5), sharex=True)\n",
    "\n",
    "for ax, c, yl in zip(axs, ['current', 'soc', 'terminal_voltage'], ['I', 'SOC', 'V']):\n",
    "    ax.plot(df['time'] / 3600, df[c])\n",
    "    ax.set_ylabel(yl)\n",
    "\n",
    "axs[-1].set_xlabel('Time (hr)')\n",
    "fig.tight_layout()"
   ]
  },
  {
   "cell_type": "markdown",
   "id": "40a5f743-2cf7-44d7-a0b1-0bd8926492b8",
   "metadata": {},
   "source": [
    "Save to a battery HDF5 file"
   ]
  },
  {
   "cell_type": "code",
   "execution_count": 24,
   "id": "0e5489ab-bd9c-4d79-bba7-66c1175e0ca6",
   "metadata": {},
   "outputs": [],
   "source": [
    "def to_hdf5(data_dir: Path, simulator: Simulator, asoh: ECMASOH) -> Path:\n",
    "    \"\"\"Save the synthetic data to a uniquely-named data file\n",
    "\n",
    "    Adds the ASOH parameters \n",
    "    Generates a hash based on the a\n",
    "\n",
    "    Args:\n",
    "        data_dir: Path in which to save HDF5 files\n",
    "        simulator: Completed cycling experiment\n",
    "        asoh: Input parameters\n",
    "    Returns:\n",
    "        Path to the saved file\n",
    "    \"\"\"\n",
    "\n",
    "    # Convert the simulation data to BatData format then add metadata\n",
    "    assert asoh.batch_size == 1, 'I have not implemented batch support'\n",
    "    dataset = simulator.to_batdata(extra_columns=True)[0]\n",
    "    dataset.metadata.is_measurement = False\n",
    "    dataset.metadata.modeling = ModelMetadata(\n",
    "        name='Moirae',\n",
    "        version=moirae_version,\n",
    "        type='empirical',\n",
    "        models=['BatteryEquivalentCircuitModel'],\n",
    "        parameters={'asoh': asoh_start}\n",
    "    )\n",
    "\n",
    "    # Make a hash based on the metadata\n",
    "    run_hash = sha256(dataset.metadata.model_dump_json(exclude_defaults=True).encode()).hexdigest()[-8:]\n",
    "    dataset.to_batdata_hdf(\n",
    "        data_dir / f'ecm-run-{run_hash}.hdf5',\n",
    "        complevel=9\n",
    "    )"
   ]
  },
  {
   "cell_type": "code",
   "execution_count": 25,
   "id": "a6ee64fa-e7b0-4d70-bc39-793b338566dc",
   "metadata": {},
   "outputs": [
    {
     "name": "stdout",
     "output_type": "stream",
     "text": [
      "CPU times: total: 46.9 ms\n",
      "Wall time: 276 ms\n"
     ]
    }
   ],
   "source": [
    "%%time\n",
    "to_hdf5(output_dir, simulator, asoh_start)"
   ]
  },
  {
   "cell_type": "code",
   "execution_count": null,
   "id": "e965efed-0050-45f0-afbb-8573ad62f430",
   "metadata": {},
   "outputs": [],
   "source": []
  }
 ],
 "metadata": {
  "kernelspec": {
   "display_name": "Python 3 (ipykernel)",
   "language": "python",
   "name": "python3"
  },
  "language_info": {
   "codemirror_mode": {
    "name": "ipython",
    "version": 3
   },
   "file_extension": ".py",
   "mimetype": "text/x-python",
   "name": "python",
   "nbconvert_exporter": "python",
   "pygments_lexer": "ipython3",
   "version": "3.10.14"
  }
 },
 "nbformat": 4,
 "nbformat_minor": 5
}
