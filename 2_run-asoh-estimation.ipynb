{
 "cells": [
  {
   "cell_type": "markdown",
   "id": "e104990f-e748-4ee7-b102-e7d451b14df9",
   "metadata": {},
   "source": [
    "# Perform State of Health Estimation\n",
    "The goal of this notebook is to estimate how the advanced state of health (ASOH) variables change given only the current and voltage over time."
   ]
  },
  {
   "cell_type": "code",
   "execution_count": 1,
   "id": "77c46097-f626-478e-b577-33e79cb9c562",
   "metadata": {},
   "outputs": [],
   "source": [
    "%matplotlib inline\n",
    "from matplotlib import pyplot as plt\n",
    "from moirae.estimators.online.filters.distributions import MultivariateGaussian\n",
    "from moirae.estimators.online.joint import JointEstimator\n",
    "from moirae.models.ecm import EquivalentCircuitModel\n",
    "from moirae.models.ecm.advancedSOH import ECMASOH\n",
    "from moirae.models.ecm.transient import ECMTransientVector\n",
    "from moirae.models.ecm.ins_outs import ECMInput, ECMMeasurement\n",
    "from moirae.interface import run_online_estimate\n",
    "from batdata.data import BatteryDataset\n",
    "from pathlib import Path\n",
    "from tqdm import tqdm\n",
    "import numpy as np"
   ]
  },
  {
   "cell_type": "markdown",
   "id": "366f7425-768b-411f-9d6b-8040a644a9af",
   "metadata": {},
   "source": [
    "Configuration"
   ]
  },
  {
   "cell_type": "code",
   "execution_count": 2,
   "id": "a08b862d-c564-4376-b72b-700984692808",
   "metadata": {},
   "outputs": [],
   "source": [
    "estimate_dir = Path('estimates')\n",
    "estimate_dir.mkdir(exist_ok=True)"
   ]
  },
  {
   "cell_type": "code",
   "execution_count": 3,
   "id": "93a5e77a-7e02-4c6a-a8cc-05fa180fade1",
   "metadata": {},
   "outputs": [
    {
     "name": "stdout",
     "output_type": "stream",
     "text": [
      "Preparing to update 10 parameters from: ('q_t.base_values', 'r0.base_values')\n"
     ]
    }
   ],
   "source": [
    "initial_asoh = ECMASOH.model_validate_json(Path('initial-asoh.json').read_text())\n",
    "initial_asoh.mark_updatable('r0.base_values')\n",
    "initial_asoh.mark_updatable('q_t.base_values')\n",
    "print(f'Preparing to update {initial_asoh.num_updatable} parameters from: {initial_asoh.updatable_names}')"
   ]
  },
  {
   "cell_type": "markdown",
   "id": "a737ba74-71b7-4757-838a-59b0c2791e2d",
   "metadata": {},
   "source": [
    "## Find cells\n",
    "Find all the runs then pull out one at example"
   ]
  },
  {
   "cell_type": "code",
   "execution_count": 4,
   "id": "50292787-35bb-4f1c-8b1f-bf1f8876d44c",
   "metadata": {},
   "outputs": [
    {
     "name": "stdout",
     "output_type": "stream",
     "text": [
      "Found 64. Will use synth-data\\bilinear-0.hdf5 as an example\n"
     ]
    }
   ],
   "source": [
    "all_cells = sorted(Path('synth-data/').glob('*.hdf5'))\n",
    "print(f'Found {len(all_cells)}. Will use {all_cells[0]} as an example')"
   ]
  },
  {
   "cell_type": "code",
   "execution_count": 5,
   "id": "7ac01062-bb6b-47ca-bc3b-df2a8e4be9dc",
   "metadata": {},
   "outputs": [
    {
     "name": "stdout",
     "output_type": "stream",
     "text": [
      "Loaded a cell with 1562592 current and voltage measurements.\n"
     ]
    }
   ],
   "source": [
    "example_data = BatteryDataset.from_batdata_hdf(all_cells[0])\n",
    "print(f'Loaded a cell with {len(example_data.raw_data)} current and voltage measurements.')"
   ]
  },
  {
   "cell_type": "markdown",
   "id": "e817b2b8-7a54-4377-bc0f-b5db89bdd15a",
   "metadata": {},
   "source": [
    "## Prepare Estimation Function\n",
    "We need a function to prepare the [estimator](https://rovi-org.github.io/auto-soh/estimator.html#online-estimators) used for tracking changes in parameters."
   ]
  },
  {
   "cell_type": "code",
   "execution_count": 6,
   "id": "953bca73-b6c9-4751-8251-624aa5a6f3ac",
   "metadata": {},
   "outputs": [],
   "source": [
    "def create_estimator(dataset: BatteryDataset):\n",
    "    \"\"\"Generate an estimator based on initial parameter estimates\n",
    "\n",
    "    Args:\n",
    "        dataset: Dataset on which we are running the estimator. [Not being used for now]\n",
    "    Returns:\n",
    "        Estimator ready for use\n",
    "    \"\"\"\n",
    "\n",
    "    # Uncertainties for the parameters\n",
    "    # Logic from \n",
    "    asoh_covariance = [6.25e-04] # Qt: +/- 0.05 Amp-hour\n",
    "    asoh_covariance += (2.5e-05 * np.ones(initial_asoh.r0.base_values.shape[1])).tolist() # R0\n",
    "    asoh_covariance = np.diag(asoh_covariance)\n",
    "    init_transients = ECMTransientVector.from_asoh(initial_asoh)\n",
    "    init_transients.soc = np.atleast_2d(1.)\n",
    "    tran_covariance = np.diag([0.1, 0.1])  # Assume we know SOC and hysteresis to 0.1\n",
    "\n",
    "    # Make the noise terms\n",
    "    #  Logic from: https://github.com/ROVI-org/auto-soh/blob/main/notebooks/demonstrate_joint_ukf.ipynb\n",
    "    voltage_err = 1.0e-03 # mV voltage error\n",
    "    noise_sensor = ((voltage_err / 2) ** 2) * np.eye(1)\n",
    "    noise_asoh = 1.0e-10 * np.eye(asoh_covariance.shape[0])\n",
    "    noise_asoh[0, 0] = 6.25e-04 # Qt value is 10 Amp-hour, so +/- 0.05 Amp-hour is reasonable\n",
    "    noise_tran = 1.0e-08 * np.eye(2)\n",
    "\n",
    "    return JointEstimator.initialize_unscented_kalman_filter(\n",
    "        cell_model=EquivalentCircuitModel(),\n",
    "        initial_asoh=initial_asoh.model_copy(deep=True),\n",
    "        initial_inputs=ECMInput(\n",
    "            time=dataset.raw_data['test_time'].iloc[0], \n",
    "            current=0.,\n",
    "        ),\n",
    "        initial_transients=init_transients,\n",
    "        covariance_asoh=asoh_covariance,\n",
    "        covariance_transient=tran_covariance,\n",
    "        transient_covariance_process_noise=noise_tran,\n",
    "        asoh_covariance_process_noise=noise_asoh,\n",
    "        covariance_sensor_noise=noise_sensor\n",
    "    )"
   ]
  },
  {
   "cell_type": "markdown",
   "id": "b217bdea-d96a-44f3-8c95-b4386c7d8023",
   "metadata": {},
   "source": [
    "## Loop over all cells\n",
    "Generate the state estimates then save the estimates in a new HDF5 file"
   ]
  },
  {
   "cell_type": "code",
   "execution_count": 7,
   "id": "f15e87b4-1a35-4536-bec0-a4b1dcc6ce9e",
   "metadata": {},
   "outputs": [
    {
     "name": "stderr",
     "output_type": "stream",
     "text": [
      "  9%|████████████████▏                                                                                                                                                           | 6/64 [01:52<17:43, 18.34s/it]"
     ]
    },
    {
     "name": "stdout",
     "output_type": "stream",
     "text": [
      "Cell synth-data\\bilinear-13.hdf5 failed due to linear algebra error\n"
     ]
    },
    {
     "name": "stderr",
     "output_type": "stream",
     "text": [
      " 12%|█████████████████████▌                                                                                                                                                      | 8/64 [02:08<11:22, 12.18s/it]"
     ]
    },
    {
     "name": "stdout",
     "output_type": "stream",
     "text": [
      "Cell synth-data\\bilinear-15.hdf5 failed due to linear algebra error\n"
     ]
    },
    {
     "name": "stderr",
     "output_type": "stream",
     "text": [
      " 19%|████████████████████████████████                                                                                                                                           | 12/64 [03:06<10:34, 12.20s/it]"
     ]
    },
    {
     "name": "stdout",
     "output_type": "stream",
     "text": [
      "Cell synth-data\\bilinear-19.hdf5 failed due to linear algebra error\n"
     ]
    },
    {
     "name": "stderr",
     "output_type": "stream",
     "text": [
      " 28%|████████████████████████████████████████████████                                                                                                                           | 18/64 [04:56<11:22, 14.85s/it]"
     ]
    },
    {
     "name": "stdout",
     "output_type": "stream",
     "text": [
      "Cell synth-data\\bilinear-24.hdf5 failed due to linear algebra error\n"
     ]
    },
    {
     "name": "stderr",
     "output_type": "stream",
     "text": [
      " 30%|██████████████████████████████████████████████████▊                                                                                                                        | 19/64 [05:00<08:37, 11.50s/it]"
     ]
    },
    {
     "name": "stdout",
     "output_type": "stream",
     "text": [
      "Cell synth-data\\bilinear-25.hdf5 failed due to linear algebra error\n"
     ]
    },
    {
     "name": "stderr",
     "output_type": "stream",
     "text": [
      " 33%|████████████████████████████████████████████████████████                                                                                                                   | 21/64 [05:29<08:54, 12.44s/it]"
     ]
    },
    {
     "name": "stdout",
     "output_type": "stream",
     "text": [
      "Cell synth-data\\bilinear-27.hdf5 failed due to linear algebra error\n"
     ]
    },
    {
     "name": "stderr",
     "output_type": "stream",
     "text": [
      " 38%|████████████████████████████████████████████████████████████████▏                                                                                                          | 24/64 [06:15<08:41, 13.05s/it]"
     ]
    },
    {
     "name": "stdout",
     "output_type": "stream",
     "text": [
      "Cell synth-data\\bilinear-3.hdf5 failed due to linear algebra error\n"
     ]
    },
    {
     "name": "stderr",
     "output_type": "stream",
     "text": [
      " 39%|██████████████████████████████████████████████████████████████████▊                                                                                                        | 25/64 [06:17<06:22,  9.81s/it]"
     ]
    },
    {
     "name": "stdout",
     "output_type": "stream",
     "text": [
      "Cell synth-data\\bilinear-30.hdf5 failed due to linear algebra error\n"
     ]
    },
    {
     "name": "stderr",
     "output_type": "stream",
     "text": [
      " 42%|████████████████████████████████████████████████████████████████████████▏                                                                                                  | 27/64 [06:47<07:27, 12.08s/it]"
     ]
    },
    {
     "name": "stdout",
     "output_type": "stream",
     "text": [
      "Cell synth-data\\bilinear-32.hdf5 failed due to linear algebra error\n"
     ]
    },
    {
     "name": "stderr",
     "output_type": "stream",
     "text": [
      " 44%|██████████████████████████████████████████████████████████████████████████▊                                                                                                | 28/64 [07:00<07:22, 12.29s/it]"
     ]
    },
    {
     "name": "stdout",
     "output_type": "stream",
     "text": [
      "Cell synth-data\\bilinear-33.hdf5 failed due to linear algebra error\n"
     ]
    },
    {
     "name": "stderr",
     "output_type": "stream",
     "text": [
      " 48%|██████████████████████████████████████████████████████████████████████████████████▊                                                                                        | 31/64 [07:41<06:24, 11.66s/it]"
     ]
    },
    {
     "name": "stdout",
     "output_type": "stream",
     "text": [
      "Cell synth-data\\bilinear-36.hdf5 failed due to linear algebra error\n"
     ]
    },
    {
     "name": "stderr",
     "output_type": "stream",
     "text": [
      " 50%|█████████████████████████████████████████████████████████████████████████████████████▌                                                                                     | 32/64 [07:48<05:27, 10.23s/it]"
     ]
    },
    {
     "name": "stdout",
     "output_type": "stream",
     "text": [
      "Cell synth-data\\bilinear-37.hdf5 failed due to linear algebra error\n"
     ]
    },
    {
     "name": "stderr",
     "output_type": "stream",
     "text": [
      " 55%|█████████████████████████████████████████████████████████████████████████████████████████████▌                                                                             | 35/64 [08:29<05:41, 11.77s/it]"
     ]
    },
    {
     "name": "stdout",
     "output_type": "stream",
     "text": [
      "Cell synth-data\\bilinear-4.hdf5 failed due to linear algebra error\n"
     ]
    },
    {
     "name": "stderr",
     "output_type": "stream",
     "text": [
      " 58%|██████████████████████████████████████████████████████████████████████████████████████████████████▊                                                                        | 37/64 [09:09<06:53, 15.30s/it]"
     ]
    },
    {
     "name": "stdout",
     "output_type": "stream",
     "text": [
      "Cell synth-data\\bilinear-41.hdf5 failed due to linear algebra error\n"
     ]
    },
    {
     "name": "stderr",
     "output_type": "stream",
     "text": [
      " 59%|█████████████████████████████████████████████████████████████████████████████████████████████████████▌                                                                     | 38/64 [09:18<05:46, 13.34s/it]"
     ]
    },
    {
     "name": "stdout",
     "output_type": "stream",
     "text": [
      "Cell synth-data\\bilinear-42.hdf5 failed due to linear algebra error\n"
     ]
    },
    {
     "name": "stderr",
     "output_type": "stream",
     "text": [
      " 61%|████████████████████████████████████████████████████████████████████████████████████████████████████████▏                                                                  | 39/64 [09:27<05:02, 12.09s/it]"
     ]
    },
    {
     "name": "stdout",
     "output_type": "stream",
     "text": [
      "Cell synth-data\\bilinear-43.hdf5 failed due to linear algebra error\n"
     ]
    },
    {
     "name": "stderr",
     "output_type": "stream",
     "text": [
      " 62%|██████████████████████████████████████████████████████████████████████████████████████████████████████████▉                                                                | 40/64 [09:31<03:49,  9.54s/it]"
     ]
    },
    {
     "name": "stdout",
     "output_type": "stream",
     "text": [
      "Cell synth-data\\bilinear-44.hdf5 failed due to linear algebra error\n"
     ]
    },
    {
     "name": "stderr",
     "output_type": "stream",
     "text": [
      " 69%|█████████████████████████████████████████████████████████████████████████████████████████████████████████████████████▌                                                     | 44/64 [12:03<08:36, 25.82s/it]"
     ]
    },
    {
     "name": "stdout",
     "output_type": "stream",
     "text": [
      "Cell synth-data\\bilinear-48.hdf5 failed due to linear algebra error\n"
     ]
    },
    {
     "name": "stderr",
     "output_type": "stream",
     "text": [
      " 70%|████████████████████████████████████████████████████████████████████████████████████████████████████████████████████████▏                                                  | 45/64 [12:15<06:50, 21.63s/it]"
     ]
    },
    {
     "name": "stdout",
     "output_type": "stream",
     "text": [
      "Cell synth-data\\bilinear-49.hdf5 failed due to linear algebra error\n"
     ]
    },
    {
     "name": "stderr",
     "output_type": "stream",
     "text": [
      " 73%|█████████████████████████████████████████████████████████████████████████████████████████████████████████████████████████████▌                                             | 47/64 [13:14<06:37, 23.37s/it]"
     ]
    },
    {
     "name": "stdout",
     "output_type": "stream",
     "text": [
      "Cell synth-data\\bilinear-50.hdf5 failed due to linear algebra error\n"
     ]
    },
    {
     "name": "stderr",
     "output_type": "stream",
     "text": [
      " 77%|██████████████████████████████████████████████████████████████████████████████████████████████████████████████████████████████████▉                                        | 49/64 [14:15<06:31, 26.12s/it]"
     ]
    },
    {
     "name": "stdout",
     "output_type": "stream",
     "text": [
      "Cell synth-data\\bilinear-52.hdf5 failed due to linear algebra error\n"
     ]
    },
    {
     "name": "stderr",
     "output_type": "stream",
     "text": [
      " 81%|██████████████████████████████████████████████████████████████████████████████████████████████████████████████████████████████████████████▉                                | 52/64 [15:25<04:27, 22.30s/it]"
     ]
    },
    {
     "name": "stdout",
     "output_type": "stream",
     "text": [
      "Cell synth-data\\bilinear-55.hdf5 failed due to linear algebra error\n"
     ]
    },
    {
     "name": "stderr",
     "output_type": "stream",
     "text": [
      " 84%|████████████████████████████████████████████████████████████████████████████████████████████████████████████████████████████████████████████████▎                          | 54/64 [16:27<04:09, 24.96s/it]"
     ]
    },
    {
     "name": "stdout",
     "output_type": "stream",
     "text": [
      "Cell synth-data\\bilinear-57.hdf5 failed due to linear algebra error\n"
     ]
    },
    {
     "name": "stderr",
     "output_type": "stream",
     "text": [
      " 88%|█████████████████████████████████████████████████████████████████████████████████████████████████████████████████████████████████████████████████████▋                     | 56/64 [17:20<03:12, 24.05s/it]"
     ]
    },
    {
     "name": "stdout",
     "output_type": "stream",
     "text": [
      "Cell synth-data\\bilinear-59.hdf5 failed due to linear algebra error\n"
     ]
    },
    {
     "name": "stderr",
     "output_type": "stream",
     "text": [
      " 92%|█████████████████████████████████████████████████████████████████████████████████████████████████████████████████████████████████████████████████████████████▋             | 59/64 [18:56<02:11, 26.39s/it]"
     ]
    },
    {
     "name": "stdout",
     "output_type": "stream",
     "text": [
      "Cell synth-data\\bilinear-61.hdf5 failed due to linear algebra error\n"
     ]
    },
    {
     "name": "stderr",
     "output_type": "stream",
     "text": [
      " 97%|█████████████████████████████████████████████████████████████████████████████████████████████████████████████████████████████████████████████████████████████████████▋     | 62/64 [20:43<01:06, 33.04s/it]"
     ]
    },
    {
     "name": "stdout",
     "output_type": "stream",
     "text": [
      "Cell synth-data\\bilinear-7.hdf5 failed due to linear algebra error\n"
     ]
    },
    {
     "name": "stderr",
     "output_type": "stream",
     "text": [
      "100%|███████████████████████████████████████████████████████████████████████████████████████████████████████████████████████████████████████████████████████████████████████████| 64/64 [21:46<00:00, 20.41s/it]\n"
     ]
    }
   ],
   "source": [
    "for path in tqdm(all_cells):\n",
    "    out_path = estimate_dir / path.name\n",
    "    if out_path.exists():\n",
    "        continue\n",
    "\n",
    "    # Read the cell\n",
    "    cell = BatteryDataset.from_batdata_hdf(path)\n",
    "    cell.raw_data = cell.raw_data.query('cycle_number < 10')\n",
    "    estimator = create_estimator(cell)\n",
    "    try:\n",
    "        output, _ = run_online_estimate(cell, estimator)\n",
    "    except np.linalg.LinAlgError:\n",
    "        print(f'Cell {path} failed due to linear algebra error')\n",
    "        continue\n",
    "\n",
    "    # Append the estimated parameters to the raw data\n",
    "    cell.raw_data = cell.raw_data.join(output.rename(columns=lambda x: f'est_{x}'))\n",
    "\n",
    "    # Average the estimated parameters by cycle\n",
    "    output['cycle_number'] = cell.raw_data['cycle_number']\n",
    "    by_cycle = output.groupby('cycle_number').mean().reset_index()\n",
    "\n",
    "    # Add them to the cycle stats\n",
    "    cell.cycle_stats = cell.cycle_stats.join(by_cycle.drop(columns=['cycle_number']).rename(columns=lambda x: f'est_{x}'))\n",
    "    cell.to_batdata_hdf(out_path, complevel=9)"
   ]
  },
  {
   "cell_type": "markdown",
   "id": "991e14c5-4030-4f3a-b987-0bbfeccd917a",
   "metadata": {},
   "source": [
    "The output file includes the actual and estimated parameters in the cycle_stats"
   ]
  },
  {
   "cell_type": "code",
   "execution_count": 8,
   "id": "71999702-73eb-4767-83f8-1c863c8537d7",
   "metadata": {},
   "outputs": [
    {
     "data": {
      "text/html": [
       "<div>\n",
       "<style scoped>\n",
       "    .dataframe tbody tr th:only-of-type {\n",
       "        vertical-align: middle;\n",
       "    }\n",
       "\n",
       "    .dataframe tbody tr th {\n",
       "        vertical-align: top;\n",
       "    }\n",
       "\n",
       "    .dataframe thead th {\n",
       "        text-align: right;\n",
       "    }\n",
       "</style>\n",
       "<table border=\"1\" class=\"dataframe\">\n",
       "  <thead>\n",
       "    <tr style=\"text-align: right;\">\n",
       "      <th></th>\n",
       "      <th>actual_q_t.base_values</th>\n",
       "      <th>actual_r0.base_values[0]</th>\n",
       "      <th>actual_r0.base_values[1]</th>\n",
       "      <th>actual_r0.base_values[2]</th>\n",
       "      <th>actual_r0.base_values[3]</th>\n",
       "      <th>actual_r0.base_values[4]</th>\n",
       "      <th>actual_r0.base_values[5]</th>\n",
       "      <th>actual_r0.base_values[6]</th>\n",
       "      <th>actual_r0.base_values[7]</th>\n",
       "      <th>actual_r0.base_values[8]</th>\n",
       "      <th>...</th>\n",
       "      <th>est_r0.base_values[1]_std</th>\n",
       "      <th>est_r0.base_values[2]_std</th>\n",
       "      <th>est_r0.base_values[3]_std</th>\n",
       "      <th>est_r0.base_values[4]_std</th>\n",
       "      <th>est_r0.base_values[5]_std</th>\n",
       "      <th>est_r0.base_values[6]_std</th>\n",
       "      <th>est_r0.base_values[7]_std</th>\n",
       "      <th>est_r0.base_values[8]_std</th>\n",
       "      <th>est_terminal_voltage</th>\n",
       "      <th>est_terminal_voltage_std</th>\n",
       "    </tr>\n",
       "  </thead>\n",
       "  <tbody>\n",
       "    <tr>\n",
       "      <th>0</th>\n",
       "      <td>0.351398</td>\n",
       "      <td>0.049290</td>\n",
       "      <td>0.094716</td>\n",
       "      <td>0.084689</td>\n",
       "      <td>0.076731</td>\n",
       "      <td>0.064186</td>\n",
       "      <td>0.058666</td>\n",
       "      <td>0.050334</td>\n",
       "      <td>0.033678</td>\n",
       "      <td>0.010687</td>\n",
       "      <td>...</td>\n",
       "      <td>0.000025</td>\n",
       "      <td>0.000025</td>\n",
       "      <td>0.000025</td>\n",
       "      <td>0.000025</td>\n",
       "      <td>0.000025</td>\n",
       "      <td>0.000025</td>\n",
       "      <td>0.000014</td>\n",
       "      <td>0.000003</td>\n",
       "      <td>-2.436753e+11</td>\n",
       "      <td>9.685994e+22</td>\n",
       "    </tr>\n",
       "    <tr>\n",
       "      <th>1</th>\n",
       "      <td>0.351401</td>\n",
       "      <td>0.049312</td>\n",
       "      <td>0.094758</td>\n",
       "      <td>0.084727</td>\n",
       "      <td>0.076765</td>\n",
       "      <td>0.064215</td>\n",
       "      <td>0.058692</td>\n",
       "      <td>0.050357</td>\n",
       "      <td>0.033693</td>\n",
       "      <td>0.010692</td>\n",
       "      <td>...</td>\n",
       "      <td>0.000024</td>\n",
       "      <td>0.000025</td>\n",
       "      <td>0.000025</td>\n",
       "      <td>0.000025</td>\n",
       "      <td>0.000025</td>\n",
       "      <td>0.000025</td>\n",
       "      <td>0.000011</td>\n",
       "      <td>0.000001</td>\n",
       "      <td>-1.780375e+21</td>\n",
       "      <td>7.910154e+42</td>\n",
       "    </tr>\n",
       "    <tr>\n",
       "      <th>2</th>\n",
       "      <td>0.351379</td>\n",
       "      <td>0.049312</td>\n",
       "      <td>0.094759</td>\n",
       "      <td>0.084728</td>\n",
       "      <td>0.076766</td>\n",
       "      <td>0.064216</td>\n",
       "      <td>0.058692</td>\n",
       "      <td>0.050357</td>\n",
       "      <td>0.033693</td>\n",
       "      <td>0.010692</td>\n",
       "      <td>...</td>\n",
       "      <td>0.000024</td>\n",
       "      <td>0.000025</td>\n",
       "      <td>0.000025</td>\n",
       "      <td>0.000025</td>\n",
       "      <td>0.000025</td>\n",
       "      <td>0.000025</td>\n",
       "      <td>0.000004</td>\n",
       "      <td>0.000001</td>\n",
       "      <td>-7.633781e+00</td>\n",
       "      <td>2.309164e-02</td>\n",
       "    </tr>\n",
       "    <tr>\n",
       "      <th>3</th>\n",
       "      <td>0.351360</td>\n",
       "      <td>0.049334</td>\n",
       "      <td>0.094800</td>\n",
       "      <td>0.084765</td>\n",
       "      <td>0.076800</td>\n",
       "      <td>0.064244</td>\n",
       "      <td>0.058718</td>\n",
       "      <td>0.050379</td>\n",
       "      <td>0.033708</td>\n",
       "      <td>0.010697</td>\n",
       "      <td>...</td>\n",
       "      <td>0.000024</td>\n",
       "      <td>0.000025</td>\n",
       "      <td>0.000025</td>\n",
       "      <td>0.000026</td>\n",
       "      <td>0.000026</td>\n",
       "      <td>0.000025</td>\n",
       "      <td>0.000004</td>\n",
       "      <td>0.000001</td>\n",
       "      <td>3.579220e+00</td>\n",
       "      <td>1.959161e-02</td>\n",
       "    </tr>\n",
       "    <tr>\n",
       "      <th>4</th>\n",
       "      <td>0.351338</td>\n",
       "      <td>0.049340</td>\n",
       "      <td>0.094811</td>\n",
       "      <td>0.084775</td>\n",
       "      <td>0.076808</td>\n",
       "      <td>0.064251</td>\n",
       "      <td>0.058725</td>\n",
       "      <td>0.050385</td>\n",
       "      <td>0.033712</td>\n",
       "      <td>0.010698</td>\n",
       "      <td>...</td>\n",
       "      <td>0.000024</td>\n",
       "      <td>0.000025</td>\n",
       "      <td>0.000026</td>\n",
       "      <td>0.000026</td>\n",
       "      <td>0.000026</td>\n",
       "      <td>0.000026</td>\n",
       "      <td>0.000004</td>\n",
       "      <td>0.000001</td>\n",
       "      <td>3.545447e+00</td>\n",
       "      <td>4.313229e-02</td>\n",
       "    </tr>\n",
       "  </tbody>\n",
       "</table>\n",
       "<p>5 rows × 36 columns</p>\n",
       "</div>"
      ],
      "text/plain": [
       "   actual_q_t.base_values  actual_r0.base_values[0]  actual_r0.base_values[1]  \\\n",
       "0                0.351398                  0.049290                  0.094716   \n",
       "1                0.351401                  0.049312                  0.094758   \n",
       "2                0.351379                  0.049312                  0.094759   \n",
       "3                0.351360                  0.049334                  0.094800   \n",
       "4                0.351338                  0.049340                  0.094811   \n",
       "\n",
       "   actual_r0.base_values[2]  actual_r0.base_values[3]  \\\n",
       "0                  0.084689                  0.076731   \n",
       "1                  0.084727                  0.076765   \n",
       "2                  0.084728                  0.076766   \n",
       "3                  0.084765                  0.076800   \n",
       "4                  0.084775                  0.076808   \n",
       "\n",
       "   actual_r0.base_values[4]  actual_r0.base_values[5]  \\\n",
       "0                  0.064186                  0.058666   \n",
       "1                  0.064215                  0.058692   \n",
       "2                  0.064216                  0.058692   \n",
       "3                  0.064244                  0.058718   \n",
       "4                  0.064251                  0.058725   \n",
       "\n",
       "   actual_r0.base_values[6]  actual_r0.base_values[7]  \\\n",
       "0                  0.050334                  0.033678   \n",
       "1                  0.050357                  0.033693   \n",
       "2                  0.050357                  0.033693   \n",
       "3                  0.050379                  0.033708   \n",
       "4                  0.050385                  0.033712   \n",
       "\n",
       "   actual_r0.base_values[8]  ...  est_r0.base_values[1]_std  \\\n",
       "0                  0.010687  ...                   0.000025   \n",
       "1                  0.010692  ...                   0.000024   \n",
       "2                  0.010692  ...                   0.000024   \n",
       "3                  0.010697  ...                   0.000024   \n",
       "4                  0.010698  ...                   0.000024   \n",
       "\n",
       "   est_r0.base_values[2]_std  est_r0.base_values[3]_std  \\\n",
       "0                   0.000025                   0.000025   \n",
       "1                   0.000025                   0.000025   \n",
       "2                   0.000025                   0.000025   \n",
       "3                   0.000025                   0.000025   \n",
       "4                   0.000025                   0.000026   \n",
       "\n",
       "   est_r0.base_values[4]_std  est_r0.base_values[5]_std  \\\n",
       "0                   0.000025                   0.000025   \n",
       "1                   0.000025                   0.000025   \n",
       "2                   0.000025                   0.000025   \n",
       "3                   0.000026                   0.000026   \n",
       "4                   0.000026                   0.000026   \n",
       "\n",
       "   est_r0.base_values[6]_std  est_r0.base_values[7]_std  \\\n",
       "0                   0.000025                   0.000014   \n",
       "1                   0.000025                   0.000011   \n",
       "2                   0.000025                   0.000004   \n",
       "3                   0.000025                   0.000004   \n",
       "4                   0.000026                   0.000004   \n",
       "\n",
       "   est_r0.base_values[8]_std  est_terminal_voltage  est_terminal_voltage_std  \n",
       "0                   0.000003         -2.436753e+11              9.685994e+22  \n",
       "1                   0.000001         -1.780375e+21              7.910154e+42  \n",
       "2                   0.000001         -7.633781e+00              2.309164e-02  \n",
       "3                   0.000001          3.579220e+00              1.959161e-02  \n",
       "4                   0.000001          3.545447e+00              4.313229e-02  \n",
       "\n",
       "[5 rows x 36 columns]"
      ]
     },
     "execution_count": 8,
     "metadata": {},
     "output_type": "execute_result"
    }
   ],
   "source": [
    "cell = BatteryDataset.from_batdata_hdf('estimates/bilinear-0.hdf5')\n",
    "cell.cycle_stats.head()"
   ]
  },
  {
   "cell_type": "markdown",
   "id": "8bef3f7c-682b-48a6-9f09-dc8ac6be82d1",
   "metadata": {},
   "source": [
    "Plot estimated compared to actual parameters"
   ]
  },
  {
   "cell_type": "code",
   "execution_count": 9,
   "id": "ceee3a22-875c-4d65-8fee-374547d1365d",
   "metadata": {},
   "outputs": [
    {
     "data": {
      "text/plain": [
       "Text(0.5, 0, 'Time (hr)')"
      ]
     },
     "execution_count": 9,
     "metadata": {},
     "output_type": "execute_result"
    },
    {
     "data": {
      "image/png": "[encoded data removed]",
      "text/plain": [
       "<Figure size 350x300 with 3 Axes>"
      ]
     },
     "metadata": {},
     "output_type": "display_data"
    }
   ],
   "source": [
    "fig, axs = plt.subplots(3, 1, figsize=(3.5, 3.), sharex=True)\n",
    "\n",
    "for ax, l in zip(axs, ['soc', 'hyst', 'voltage']):\n",
    "    ax.plot(cell.raw_data['test_time'] / 3600, cell.raw_data[l], 'k--', label='Actual')\n",
    "    ax.set_ylim()\n",
    "    ax.plot(cell.raw_data['test_time'] / 3600, cell.raw_data[f'est_{l}' if l != \"voltage\" else \"est_terminal_voltage\"], 'r', label='Actual')\n",
    "\n",
    "    ax.set_ylabel(l)\n",
    "\n",
    "axs[0].set_ylim(-0.1, 1.5)\n",
    "axs[-1].set_xlabel('Time (hr)')"
   ]
  },
  {
   "cell_type": "code",
   "execution_count": null,
   "id": "b9422f04-fc88-462a-846a-6dea8a0066c3",
   "metadata": {},
   "outputs": [],
   "source": []
  }
 ],
 "metadata": {
  "kernelspec": {
   "display_name": "Python 3 (ipykernel)",
   "language": "python",
   "name": "python3"
  },
  "language_info": {
   "codemirror_mode": {
    "name": "ipython",
    "version": 3
   },
   "file_extension": ".py",
   "mimetype": "text/x-python",
   "name": "python",
   "nbconvert_exporter": "python",
   "pygments_lexer": "ipython3",
   "version": "3.9.19"
  }
 },
 "nbformat": 4,
 "nbformat_minor": 5
}
