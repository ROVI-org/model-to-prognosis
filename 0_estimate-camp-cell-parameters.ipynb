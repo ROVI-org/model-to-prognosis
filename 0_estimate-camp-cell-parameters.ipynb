{
 "cells": [
  {
   "cell_type": "markdown",
   "id": "e9669530-9bb2-43c8-ae44-bf53cc2797f2",
   "metadata": {},
   "source": [
    "## Generate Initial Parameters\n",
    "We are going to pass our synthetic data on cells from the [CAMP dataset](https://doi.org/10.18126/fdxq-7yul)."
   ]
  },
  {
   "cell_type": "code",
   "execution_count": 1,
   "id": "87089bd6-fbe5-4ae6-a0bb-ea41b6b1293b",
   "metadata": {},
   "outputs": [],
   "source": [
    "%matplotlib inline\n",
    "from matplotlib import pyplot as plt\n",
    "from moirae.models.ecm.components import Resistance, OpenCircuitVoltage, MaxTheoreticalCapacity, ReferenceOCV\n",
    "from moirae.models.ecm import ECMASOH\n",
    "from batdata.data import BatteryDataset\n",
    "from scipy.interpolate import interp1d\n",
    "from shutil import copyfileobj\n",
    "from pathlib import Path\n",
    "import numpy as np\n",
    "import requests"
   ]
  },
  {
   "cell_type": "markdown",
   "id": "95170fd2-5d28-4504-89b9-2ec349fbc52c",
   "metadata": {},
   "source": [
    "Configuration"
   ]
  },
  {
   "cell_type": "code",
   "execution_count": 2,
   "id": "a3467bb7-91a4-407a-a37c-17924c65aad1",
   "metadata": {},
   "outputs": [],
   "source": [
    "data_url = 'https://data.materialsdatafacility.org/mdf_open/camp_2023_v3.5/hdf5/refined/batch_B28A_cell_39.h5'\n",
    "template_dir = Path('template-data')  # Where to store the template data\n",
    "num_soc_steps: int = 9  # Number of interpolation steps in the OCV measurement"
   ]
  },
  {
   "cell_type": "markdown",
   "id": "35871fed-ae84-4b27-8de9-ff14d773463d",
   "metadata": {},
   "source": [
    "## Download and Parse the Data\n",
    "Download the data using HTTP and store locally"
   ]
  },
  {
   "cell_type": "code",
   "execution_count": 3,
   "id": "9be1a891-98ba-4a17-af87-47c0d6b810d7",
   "metadata": {},
   "outputs": [
    {
     "name": "stdout",
     "output_type": "stream",
     "text": [
      "Saving data to template-data\\batch_B28A_cell_39.h5\n"
     ]
    }
   ],
   "source": [
    "data_path = template_dir / data_url.split(\"/\")[-1]\n",
    "print(f'Saving data to {data_path}')"
   ]
  },
  {
   "cell_type": "markdown",
   "id": "2de186e7-b992-49e1-9d41-662d68979512",
   "metadata": {},
   "source": [
    "Download if not present"
   ]
  },
  {
   "cell_type": "code",
   "execution_count": 4,
   "id": "66c64cf7-5bee-4a90-9697-06464b3b16aa",
   "metadata": {},
   "outputs": [],
   "source": [
    "if not data_path.exists():\n",
    "    with data_path.open('wb') as fp:\n",
    "        copyfileobj(requests.get(data_url, stream=True).raw, fp)"
   ]
  },
  {
   "cell_type": "code",
   "execution_count": 5,
   "id": "8365a4c3-fe38-4ffa-94a2-75bf42d44fca",
   "metadata": {},
   "outputs": [],
   "source": [
    "template_dataset = BatteryDataset.from_batdata_hdf(data_path)"
   ]
  },
  {
   "cell_type": "markdown",
   "id": "cb068496-9d7f-4488-b568-dea19b51d479",
   "metadata": {},
   "source": [
    "## Get Initial Parameter Estimates for Equivalent Circuit Parameters\n",
    "Let's start with some educated guesses for the parameters. \n",
    "\n",
    "First up, make a model for the open circuit voltage using a regular cycle"
   ]
  },
  {
   "cell_type": "code",
   "execution_count": 6,
   "id": "8e27b2ed-ca40-45e1-93ac-1df6d518dbc5",
   "metadata": {},
   "outputs": [],
   "source": [
    "initial_cycles = template_dataset.raw_data.query('24 < cycle_number < 40')  # Get cycles after some initial tests"
   ]
  },
  {
   "cell_type": "code",
   "execution_count": 7,
   "id": "4e8663c7-8cd7-4d2e-b2f2-05a2a6fce908",
   "metadata": {},
   "outputs": [
    {
     "data": {
      "image/png": "[encoded data removed]",
      "text/plain": [
       "<Figure size 350x210 with 1 Axes>"
      ]
     },
     "metadata": {},
     "output_type": "display_data"
    }
   ],
   "source": [
    "fig, ax = plt.subplots(figsize=(3.5, 2.1))\n",
    "\n",
    "ax.plot(initial_cycles['test_time'] / 3600, -initial_cycles['cycle_capacity'])\n",
    "\n",
    "ax.set_xlabel('Test Time (hr)')\n",
    "ax.set_ylabel('$\\Delta$ Charge (A-hr)')\n",
    "fig.tight_layout()"
   ]
  },
  {
   "cell_type": "markdown",
   "id": "65cbc10a-9de3-404c-9ca9-b59896a93276",
   "metadata": {},
   "source": [
    "Estimate a capacity by getting the maximum amount of energy added to the battery"
   ]
  },
  {
   "cell_type": "code",
   "execution_count": 8,
   "id": "051eb216-15b3-4451-9751-a3d3af797541",
   "metadata": {},
   "outputs": [
    {
     "data": {
      "text/plain": [
       "count    15.000000\n",
       "mean      0.346770\n",
       "std       0.004931\n",
       "min       0.339110\n",
       "25%       0.342624\n",
       "50%       0.347348\n",
       "75%       0.350804\n",
       "max       0.353956\n",
       "Name: cycle_capacity, dtype: float64"
      ]
     },
     "execution_count": 8,
     "metadata": {},
     "output_type": "execute_result"
    }
   ],
   "source": [
    "cycle_capacities = -initial_cycles.groupby('cycle_number')['cycle_capacity'].min()\n",
    "cycle_capacities.describe()"
   ]
  },
  {
   "cell_type": "code",
   "execution_count": 9,
   "id": "ae292769-015a-4bd3-aad6-081b9fa383dc",
   "metadata": {},
   "outputs": [
    {
     "name": "stdout",
     "output_type": "stream",
     "text": [
      "Initial capacity estimate is 0.35 A-hr\n"
     ]
    }
   ],
   "source": [
    "initial_capacity = cycle_capacities.median()\n",
    "print(f'Initial capacity estimate is {initial_capacity:.2f} A-hr')"
   ]
  },
  {
   "cell_type": "markdown",
   "id": "fb4e2ca9-76b6-4e22-9744-a2d8b41c0e8f",
   "metadata": {},
   "source": [
    "Estimate the Open Circuit Voltage by measuring the voltage at different states of charge during both charge and discharge"
   ]
  },
  {
   "cell_type": "code",
   "execution_count": 10,
   "id": "d5d70fcb-815f-456f-9153-e12dd0c22fe5",
   "metadata": {},
   "outputs": [],
   "source": [
    "discharging = initial_cycles.query('state == \"discharging\"')\n",
    "charging = initial_cycles.query('state == \"charging\"')"
   ]
  },
  {
   "cell_type": "code",
   "execution_count": 11,
   "id": "45e4b911-8bb3-4cdd-9fe1-f8961492af34",
   "metadata": {},
   "outputs": [],
   "source": [
    "def get_voltage_measurments(subset):\n",
    "    \"\"\"Determine measurements at different SOCs\"\"\"\n",
    "\n",
    "    voltage_steps = np.zeros((len(set(subset['cycle_number'])), num_soc_steps))\n",
    "    for i, (_, group) in enumerate(subset.groupby('cycle_number')):\n",
    "        group = group.sort_values('cycle_capacity')\n",
    "        f = interp1d(-group['cycle_capacity'], group['voltage'])\n",
    "        steps = np.linspace(\n",
    "            -group['cycle_capacity'].max(), \n",
    "            -group['cycle_capacity'].min(),\n",
    "            num_soc_steps\n",
    "        )\n",
    "        voltage_steps[i, :] = f(steps)\n",
    "    return voltage_steps.mean(axis=0)"
   ]
  },
  {
   "cell_type": "code",
   "execution_count": 12,
   "id": "013b3a47-8cbd-4bd3-91fe-9d643644259f",
   "metadata": {},
   "outputs": [],
   "source": [
    "discharge_volt = get_voltage_measurments(discharging)\n",
    "charge_volt = get_voltage_measurments(charging)\n",
    "ocv = 0.5 * (discharge_volt + charge_volt)"
   ]
  },
  {
   "cell_type": "code",
   "execution_count": 13,
   "id": "bd22d17d-ff35-43e3-8aca-7da648518f2d",
   "metadata": {},
   "outputs": [
    {
     "data": {
      "image/png": "[encoded data removed]",
      "text/plain": [
       "<Figure size 350x210 with 1 Axes>"
      ]
     },
     "metadata": {},
     "output_type": "display_data"
    }
   ],
   "source": [
    "fig, ax = plt.subplots(figsize=(3.5, 2.1))\n",
    "\n",
    "soc_values = np.linspace(0, 1, num_soc_steps)\n",
    "for subset, points, color in [(discharging, discharge_volt, 'blue'), (charging, charge_volt, 'red')]:\n",
    "    for gid, group in subset.groupby('cycle_number'):\n",
    "        ax.plot(-group['cycle_capacity'] / initial_capacity, group['voltage'], alpha=0.1, color=color)\n",
    "    ax.scatter(soc_values, points, marker='o', color=color)\n",
    "ax.plot(soc_values, ocv, '--x', color='purple')\n",
    "\n",
    "ax.set_xlabel('SOC')\n",
    "ax.set_ylabel('V')\n",
    "fig.tight_layout()"
   ]
  },
  {
   "cell_type": "markdown",
   "id": "951ba887-3cdc-4e13-b472-92c8191f755c",
   "metadata": {},
   "source": [
    "Estimate a SOC-dependent series resistance based on the difference in voltage between charge and discharge and the charge difference\n",
    "\n",
    "$V_c - V_d = OCV + I_c R - (OCV - I_d R) = (I_c + I_d)R$"
   ]
  },
  {
   "cell_type": "code",
   "execution_count": 14,
   "id": "cf8513c7-e760-4841-a916-daf44f43f0fa",
   "metadata": {},
   "outputs": [
    {
     "name": "stdout",
     "output_type": "stream",
     "text": [
      "Charge current 0.1 A. Discharge current 0.2 A\n"
     ]
    }
   ],
   "source": [
    "charge_current = charging['current'].abs().mean()\n",
    "discharge_current = discharging['current'].abs().mean()\n",
    "print(f'Charge current {charge_current:.1f} A. Discharge current {discharge_current:.1f} A')"
   ]
  },
  {
   "cell_type": "code",
   "execution_count": 15,
   "id": "edd007bc-575f-4946-8051-b421d7b38001",
   "metadata": {},
   "outputs": [],
   "source": [
    "r_serial = (charge_volt - discharge_volt) / (discharge_current + charge_current)\n",
    "r_serial /= 10  # The r0 estimate is too large because we're not including other sources of resistance"
   ]
  },
  {
   "cell_type": "markdown",
   "id": "5fd8fbe1-e104-44a0-9cfa-7944db3e0e78",
   "metadata": {},
   "source": [
    "## Save Results\n",
    "Assemble then save results as a [Moirae ECMASOH object](https://rovi-org.github.io/auto-soh/source/models.html#moirae.models.ecm.advancedSOH.ECMASOH)."
   ]
  },
  {
   "cell_type": "code",
   "execution_count": 16,
   "id": "2ce1e70a-1dd2-4f48-965a-8ae33efb62d7",
   "metadata": {},
   "outputs": [],
   "source": [
    "asoh = ECMASOH(\n",
    "    q_t=MaxTheoreticalCapacity(base_values=initial_capacity),\n",
    "    r0=Resistance(base_values=r_serial),\n",
    "    ocv=OpenCircuitVoltage(\n",
    "        ocv_ref=ReferenceOCV(base_values=ocv, interpolation_style='cubic'),\n",
    "        ocv_ent={'base_values': 0}\n",
    "    )\n",
    ")"
   ]
  },
  {
   "cell_type": "code",
   "execution_count": 17,
   "id": "dba0288e-d00c-4a56-b655-f326224900cf",
   "metadata": {},
   "outputs": [],
   "source": [
    "with open('initial-asoh.json', 'w') as fp:\n",
    "    print(asoh.model_dump_json(indent=True), file=fp)"
   ]
  },
  {
   "cell_type": "code",
   "execution_count": null,
   "id": "b5365985-e238-4e05-9bf4-f94d48d74ab2",
   "metadata": {},
   "outputs": [],
   "source": []
  }
 ],
 "metadata": {
  "kernelspec": {
   "display_name": "Python 3 (ipykernel)",
   "language": "python",
   "name": "python3"
  },
  "language_info": {
   "codemirror_mode": {
    "name": "ipython",
    "version": 3
   },
   "file_extension": ".py",
   "mimetype": "text/x-python",
   "name": "python",
   "nbconvert_exporter": "python",
   "pygments_lexer": "ipython3",
   "version": "3.9.19"
  }
 },
 "nbformat": 4,
 "nbformat_minor": 5
}
