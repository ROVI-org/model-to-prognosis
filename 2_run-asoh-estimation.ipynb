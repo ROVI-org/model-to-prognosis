{
 "cells": [
  {
   "cell_type": "markdown",
   "id": "e104990f-e748-4ee7-b102-e7d451b14df9",
   "metadata": {},
   "source": [
    "# Perform State of Health Estimation\n",
    "The goal of this notebook is to estimate how the advanced state of health (ASOH) variables change given only the current and voltage over time."
   ]
  },
  {
   "cell_type": "code",
   "execution_count": 5,
   "id": "77c46097-f626-478e-b577-33e79cb9c562",
   "metadata": {},
   "outputs": [],
   "source": [
    "%matplotlib inline\n",
    "from matplotlib import pyplot as plt\n",
    "from moirae.estimators.online.filters.distributions import MultivariateGaussian\n",
    "from moirae.estimators.online.joint import JointEstimator\n",
    "from moirae.models.ecm import EquivalentCircuitModel\n",
    "from moirae.models.ecm.advancedSOH import ECMASOH\n",
    "from moirae.models.ecm.transient import ECMTransientVector\n",
    "from moirae.models.ecm.ins_outs import ECMInput, ECMMeasurement\n",
    "from moirae.interface import run_online_estimate\n",
    "from batdata.data import BatteryDataset\n",
    "from pathlib import Path\n",
    "from tqdm import tqdm\n",
    "import numpy as np"
   ]
  },
  {
   "cell_type": "markdown",
   "id": "366f7425-768b-411f-9d6b-8040a644a9af",
   "metadata": {},
   "source": [
    "Configuration"
   ]
  },
  {
   "cell_type": "code",
   "execution_count": 6,
   "id": "a08b862d-c564-4376-b72b-700984692808",
   "metadata": {},
   "outputs": [],
   "source": [
    "estimate_dir = Path('estimates')\n",
    "estimate_dir.mkdir(exist_ok=True)"
   ]
  },
  {
   "cell_type": "code",
   "execution_count": 7,
   "id": "93a5e77a-7e02-4c6a-a8cc-05fa180fade1",
   "metadata": {},
   "outputs": [
    {
     "name": "stdout",
     "output_type": "stream",
     "text": [
      "Preparing to update 10 parameters from: ('q_t.base_values', 'r0.base_values')\n"
     ]
    }
   ],
   "source": [
    "initial_asoh = ECMASOH.model_validate_json(Path('initial-asoh.json').read_text())\n",
    "initial_asoh.ocv(0.5) # quick and dirty init for soc_pinpoints\n",
    "# fix reference OCV\n",
    "soc_pinpoints = [-0.1] + initial_asoh.ocv.ocv_ref.soc_pinpoints.flatten().tolist() + [1.1]\n",
    "base_vals = [0.] + initial_asoh.ocv.ocv_ref.base_values.flatten().tolist() + [6.5]\n",
    "initial_asoh.ocv.ocv_ref.base_values = np.array([base_vals])\n",
    "initial_asoh.ocv.ocv_ref.soc_pinpoints = np.array(soc_pinpoints)\n",
    "initial_asoh.ocv.ocv_ref.interpolation_style='linear'\n",
    "initial_asoh.mark_updatable('r0.base_values')\n",
    "initial_asoh.mark_updatable('q_t.base_values')\n",
    "print(f'Preparing to update {initial_asoh.num_updatable} parameters from: {initial_asoh.updatable_names}')"
   ]
  },
  {
   "cell_type": "markdown",
   "id": "a737ba74-71b7-4757-838a-59b0c2791e2d",
   "metadata": {},
   "source": [
    "## Find cells\n",
    "Find all the runs then pull out one at example"
   ]
  },
  {
   "cell_type": "code",
   "execution_count": 8,
   "id": "50292787-35bb-4f1c-8b1f-bf1f8876d44c",
   "metadata": {},
   "outputs": [
    {
     "name": "stdout",
     "output_type": "stream",
     "text": [
      "Found 64. Will use bilinear-0.hdf5 as an example\n"
     ]
    }
   ],
   "source": [
    "all_cells = sorted(Path('synth-data').glob('*.hdf5'))\n",
    "print(f'Found {len(all_cells)}. Will use {all_cells[0].name} as an example')"
   ]
  },
  {
   "cell_type": "code",
   "execution_count": 9,
   "id": "7ac01062-bb6b-47ca-bc3b-df2a8e4be9dc",
   "metadata": {},
   "outputs": [
    {
     "name": "stdout",
     "output_type": "stream",
     "text": [
      "Loaded a cell with 1362215 current and voltage measurements.\n"
     ]
    }
   ],
   "source": [
    "example_data = BatteryDataset.from_batdata_hdf(all_cells[0])\n",
    "print(f'Loaded a cell with {len(example_data.raw_data)} current and voltage measurements.')"
   ]
  },
  {
   "cell_type": "markdown",
   "id": "e817b2b8-7a54-4377-bc0f-b5db89bdd15a",
   "metadata": {},
   "source": [
    "## Prepare Estimation Function\n",
    "We need a function to prepare the [estimator](https://rovi-org.github.io/auto-soh/estimator.html#online-estimators) used for tracking changes in parameters."
   ]
  },
  {
   "cell_type": "code",
   "execution_count": 10,
   "id": "953bca73-b6c9-4751-8251-624aa5a6f3ac",
   "metadata": {},
   "outputs": [],
   "source": [
    "def create_estimator(dataset: BatteryDataset):\n",
    "    \"\"\"Generate an estimator based on initial parameter estimates\n",
    "\n",
    "    Args:\n",
    "        dataset: Dataset on which we are running the estimator. [Not being used for now]\n",
    "    Returns:\n",
    "        Estimator ready for use\n",
    "    \"\"\"\n",
    "\n",
    "    # Uncertainties for the parameters\n",
    "    # For A-SOH, assume 2*standard_dev is 0.5% of the value of the parameter\n",
    "    asoh_covariance = [(2.5e-03 * initial_asoh.q_t.base_values.item()) ** 2] # +/- std_dev^2 Qt\n",
    "    asoh_covariance += ((2.5e-03 * initial_asoh.r0.base_values.flatten()) ** 2).tolist() # +/- std_dev^2 of R0\n",
    "    asoh_covariance = np.diag(asoh_covariance)\n",
    "    # For the transients, assume SOC is a uniform random variable in [0,1], and hysteresis has 2*std_dev of 1 mV\n",
    "    init_transients = ECMTransientVector.from_asoh(initial_asoh)\n",
    "    init_transients.soc = np.atleast_2d(1.)\n",
    "    tran_covariance = np.diag([1/12, 2.5e-07])\n",
    "\n",
    "    # Make the noise terms\n",
    "    #  Logic from: https://github.com/ROVI-org/auto-soh/blob/main/notebooks/demonstrate_joint_ukf.ipynb\n",
    "    voltage_err = 1.0e-03 # mV voltage error\n",
    "    noise_sensor = ((voltage_err / 2) ** 2) * np.eye(1)\n",
    "    noise_asoh = 1.0e-10 * np.eye(asoh_covariance.shape[0])\n",
    "    noise_tran = 1.0e-08 * np.eye(2)\n",
    "\n",
    "    return JointEstimator.initialize_unscented_kalman_filter(\n",
    "        cell_model=EquivalentCircuitModel(),\n",
    "        initial_asoh=initial_asoh.model_copy(deep=True),\n",
    "        initial_inputs=ECMInput(\n",
    "            time=dataset.raw_data['test_time'].iloc[0], \n",
    "            current=dataset.raw_data['current'].iloc[0],\n",
    "        ),\n",
    "        initial_transients=init_transients,\n",
    "        covariance_asoh=asoh_covariance,\n",
    "        covariance_transient=tran_covariance,\n",
    "        transient_covariance_process_noise=noise_tran,\n",
    "        asoh_covariance_process_noise=noise_asoh,\n",
    "        covariance_sensor_noise=noise_sensor\n",
    "    )"
   ]
  },
  {
   "cell_type": "markdown",
   "id": "b217bdea-d96a-44f3-8c95-b4386c7d8023",
   "metadata": {},
   "source": [
    "## Loop over all cells\n",
    "Generate the state estimates then save the estimates in a new HDF5 file"
   ]
  },
  {
   "cell_type": "code",
   "execution_count": null,
   "id": "f15e87b4-1a35-4536-bec0-a4b1dcc6ce9e",
   "metadata": {},
   "outputs": [
    {
     "name": "stderr",
     "output_type": "stream",
     "text": [
      " 61%|███████████████████████████████████████████████████████████████████████████████████████████████████▎                                                               | 39/64 [16:08:20<10:48:25, 1556.22s/it]"
     ]
    }
   ],
   "source": [
    "for path in tqdm(all_cells):\n",
    "    out_path = estimate_dir / path.name\n",
    "    if out_path.exists():\n",
    "        continue\n",
    "\n",
    "    # Read the cell\n",
    "    cell = BatteryDataset.from_batdata_hdf(path)\n",
    "    # cell.raw_data = cell.raw_data.query('cycle_number < 10')\n",
    "    estimator = create_estimator(cell)\n",
    "    try:\n",
    "        output, _ = run_online_estimate(cell, estimator)\n",
    "\n",
    "    except np.linalg.LinAlgError:\n",
    "        print(f'Cell {path} failed due to linear algebra error')\n",
    "        continue\n",
    "\n",
    "    # Append the estimated parameters to the raw data\n",
    "    cell.raw_data = cell.raw_data.join(output.rename(columns=lambda x: f'est_{x}'))\n",
    "\n",
    "    # Average the estimated parameters by cycle\n",
    "    output['cycle_number'] = cell.raw_data['cycle_number']\n",
    "    by_cycle = output.groupby('cycle_number').mean().reset_index()\n",
    "\n",
    "    # Add them to the cycle stats\n",
    "    cell.cycle_stats = cell.cycle_stats.join(by_cycle.drop(columns=['cycle_number']).rename(columns=lambda x: f'est_{x}'))\n",
    "    cell.to_batdata_hdf(out_path, complevel=9)"
   ]
  },
  {
   "cell_type": "markdown",
   "id": "991e14c5-4030-4f3a-b987-0bbfeccd917a",
   "metadata": {},
   "source": [
    "The output file includes the actual and estimated parameters in the cycle_stats"
   ]
  },
  {
   "cell_type": "code",
   "execution_count": null,
   "id": "71999702-73eb-4767-83f8-1c863c8537d7",
   "metadata": {},
   "outputs": [],
   "source": [
    "cell = BatteryDataset.from_batdata_hdf('estimates/bilinear-0.hdf5')\n",
    "cell.cycle_stats.head()"
   ]
  },
  {
   "cell_type": "markdown",
   "id": "8bef3f7c-682b-48a6-9f09-dc8ac6be82d1",
   "metadata": {},
   "source": [
    "Plot estimated compared to actual parameters"
   ]
  },
  {
   "cell_type": "code",
   "execution_count": null,
   "id": "ceee3a22-875c-4d65-8fee-374547d1365d",
   "metadata": {},
   "outputs": [],
   "source": [
    "fig, axs = plt.subplots(3, 1, figsize=(3.5, 3.), sharex=True)\n",
    "\n",
    "for ax, l in zip(axs, ['soc', 'hyst', 'voltage']):\n",
    "    ax.plot(cell.raw_data['test_time'][-5000:] / 3600,\n",
    "            cell.raw_data[l][-5000:], 'k--', label='Actual', zorder=1)\n",
    "    # ax.set_ylim()\n",
    "    ax.plot(cell.raw_data['test_time'][-5000:] / 3600,\n",
    "            cell.raw_data[f'est_{l}' if l != \"voltage\" else \"est_terminal_voltage\"][-5000:], \n",
    "            'r', label='Estimated',\n",
    "            zorder=0)\n",
    "\n",
    "    ax.set_ylabel(l)\n",
    "\n",
    "# axs[0].set_ylim(-0.1, 1.5)\n",
    "axs[-1].set_xlabel('Time (hr)')"
   ]
  },
  {
   "cell_type": "code",
   "execution_count": null,
   "id": "d67feebb",
   "metadata": {},
   "outputs": [],
   "source": [
    "fig, axs = plt.subplots(10, 1, figsize=(3.5, 12.), sharex=True)\n",
    "\n",
    "for ax, l in zip(axs, ['q_t.base_values',\n",
    "                       'r0.base_values[0]',\n",
    "                       'r0.base_values[1]',\n",
    "                       'r0.base_values[2]',\n",
    "                       'r0.base_values[3]',\n",
    "                       'r0.base_values[4]',\n",
    "                       'r0.base_values[5]',\n",
    "                       'r0.base_values[6]',\n",
    "                       'r0.base_values[7]',\n",
    "                       'r0.base_values[8]',\n",
    "                       ]):\n",
    "    actual = cell.cycle_stats['actual_' + l]\n",
    "#     ax.plot(cell.raw_data['test_time'] / 3600,\n",
    "#             cell.cycle_stats['actual_' + l], 'k--', label='Actual', zorder=1)\n",
    "    ax.plot(cell.raw_data['test_time'] / 3600, \n",
    "            actual[cell.raw_data['cycle_number'].to_numpy().astype(int)],\n",
    "            'k--', label='Actual', zorder=2)\n",
    "    # ax.set_ylim()\n",
    "    ax.plot(cell.raw_data['test_time'] / 3600,\n",
    "            cell.raw_data[f'est_{l}'], 'r', label='Estimated',\n",
    "            zorder=1)\n",
    "    ax.fill_between(cell.raw_data['test_time'] / 3600,\n",
    "                    cell.raw_data[f'est_{l}'] + 2 * cell.raw_data[f'est_{l}_std'],\n",
    "                    cell.raw_data[f'est_{l}'] - 2 * cell.raw_data[f'est_{l}_std'],\n",
    "                    color='red', alpha=0.5, zorder=0)\n",
    "\n",
    "    ax.set_ylabel(l)\n",
    "\n",
    "axs[-1].set_xlabel('Time (hr)')"
   ]
  },
  {
   "cell_type": "code",
   "execution_count": null,
   "id": "ea7ad4c0",
   "metadata": {},
   "outputs": [],
   "source": []
  }
 ],
 "metadata": {
  "kernelspec": {
   "display_name": "Python 3 (ipykernel)",
   "language": "python",
   "name": "python3"
  },
  "language_info": {
   "codemirror_mode": {
    "name": "ipython",
    "version": 3
   },
   "file_extension": ".py",
   "mimetype": "text/x-python",
   "name": "python",
   "nbconvert_exporter": "python",
   "pygments_lexer": "ipython3",
   "version": "3.10.14"
  }
 },
 "nbformat": 4,
 "nbformat_minor": 5
}
