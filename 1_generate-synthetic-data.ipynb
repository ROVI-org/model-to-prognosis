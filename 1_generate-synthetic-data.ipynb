{
 "cells": [
  {
   "cell_type": "markdown",
   "id": "1a4c6405-3c35-4919-a2e3-a857b4630b8b",
   "metadata": {},
   "source": [
    "# Generate a Set of Synthetic Data\n",
    "Use the initial parameters to create synthetic data.\n",
    "\n",
    "The capacity will decrease and the resistance will increase following [a bilinear model](https://www.sciencedirect.com/science/article/pii/S0378775322007303) such that the inflection point and point at which the capacity reaches a failure point are approximately 1000 cycles.\n",
    "\n",
    "**TODO (wardlt)**\n",
    "- Make cycle stress relate to the life, though I would advocate for using NREL's synthetic models rather than inventing one"
   ]
  },
  {
   "cell_type": "code",
   "execution_count": 1,
   "id": "370d0763-589f-43b2-a133-99bcd0406433",
   "metadata": {},
   "outputs": [],
   "source": [
    "%matplotlib inline\n",
    "from moirae.models.ecm import EquivalentCircuitModel as ECM\n",
    "from moirae.models.ecm.components import Resistance, OpenCircuitVoltage, MaxTheoreticalCapacity, ReferenceOCV\n",
    "from moirae.models.ecm import ECMASOH, ECMTransientVector, ECMInput, ECMMeasurement\n",
    "from moirae.simulator import Simulator\n",
    "from moirae.interface import run_online_estimate\n",
    "from moirae import __version__ as moirae_version\n",
    "from matplotlib import pyplot as plt\n",
    "from batdata.data import BatteryDataset\n",
    "from batdata.schemas.modeling import ModelMetadata\n",
    "from scipy import stats\n",
    "from shutil import copyfileobj\n",
    "from hashlib import sha256\n",
    "from pathlib import Path\n",
    "from tqdm import tqdm\n",
    "import pandas as pd\n",
    "import numpy as np\n",
    "import requests"
   ]
  },
  {
   "cell_type": "markdown",
   "id": "7f2f15e2-fc5e-4619-89be-5239b3b851d0",
   "metadata": {},
   "source": [
    "General Configuration"
   ]
  },
  {
   "cell_type": "code",
   "execution_count": 2,
   "id": "a05e7ebd-c5bc-40b0-84b7-77e83fbdabd7",
   "metadata": {},
   "outputs": [],
   "source": [
    "output_dir = Path('synth-data')"
   ]
  },
  {
   "cell_type": "markdown",
   "id": "b85b0477-281c-4321-83ec-3f6d186bf693",
   "metadata": {},
   "source": [
    "Parameter estimation configuration"
   ]
  },
  {
   "cell_type": "code",
   "execution_count": 3,
   "id": "6c978a0f-a31c-4470-9045-fdd6aca34246",
   "metadata": {},
   "outputs": [],
   "source": [
    "initial_asoh = ECMASOH.model_validate_json(Path('initial-asoh.json').read_text())"
   ]
  },
  {
   "cell_type": "markdown",
   "id": "92ce31b6-45ff-454d-b044-e192e25212f3",
   "metadata": {},
   "source": [
    "Simulation configuration"
   ]
  },
  {
   "cell_type": "code",
   "execution_count": 4,
   "id": "d0b7a76d-2f29-4bd0-847e-8edd2e0f3e6d",
   "metadata": {},
   "outputs": [],
   "source": [
    "timestep_duration: float = 5.  # Time between measurements in seconds"
   ]
  },
  {
   "cell_type": "markdown",
   "id": "886746ea-0395-442b-b730-9a0aae8294cf",
   "metadata": {},
   "source": [
    "Degredation variation"
   ]
  },
  {
   "cell_type": "code",
   "execution_count": 5,
   "id": "6633a221-97d4-4339-b335-fc47dd7a2b60",
   "metadata": {},
   "outputs": [],
   "source": [
    "knee_cycles = stats.multivariate_normal(mean=[1000, 1000], cov=[[150, 50], [50, 150]])  # Distribution of knee point for capacity and resistance. Ensure they are similar\n",
    "knee_capacity = stats.expon(scale=0.08)  # Capacity loss to the knee.\n",
    "knee_resistance = stats.expon(scale=1.1)  # Resistance gain to the knee\n",
    "post_knee_cycles = stats.expon(loc=10, scale=50)  # How many cycles after knee until 80% capacity\n",
    "knee_width = stats.uniform(15, 100)\n",
    "post_knee_resistance = stats.expon(scale=4)  # Increased slope in resistance after knee"
   ]
  },
  {
   "cell_type": "code",
   "execution_count": 6,
   "id": "f7c31634-2789-464c-a4ff-2a27f274899d",
   "metadata": {},
   "outputs": [],
   "source": [
    "output_dir.mkdir(exist_ok=True)"
   ]
  },
  {
   "cell_type": "markdown",
   "id": "b5f09f27-5684-4ba5-9ea0-6ae33715d1f2",
   "metadata": {},
   "source": [
    "## Build Functions to Generate Data\n",
    "We'll need a tool to generate an initial set of model parameters and "
   ]
  },
  {
   "cell_type": "code",
   "execution_count": 7,
   "id": "271ea594-1c36-4329-a456-535a5594874e",
   "metadata": {},
   "outputs": [],
   "source": [
    "def build_initial(\n",
    ") -> tuple[ECMASOH, ECMTransientVector]:\n",
    "    \"\"\"Build an initial set of parameters \n",
    "\n",
    "    Returns\n",
    "        Tuple of health parameters and initial transient state\n",
    "    \"\"\"\n",
    "    \n",
    "    ecm_start = ECMTransientVector(soc=1.)\n",
    "    return initial_asoh.model_copy(deep=True), ecm_start"
   ]
  },
  {
   "cell_type": "code",
   "execution_count": 8,
   "id": "4509dc31-f139-419e-bfd6-9c83a24060df",
   "metadata": {},
   "outputs": [],
   "source": [
    "asoh_start, state_start = build_initial()"
   ]
  },
  {
   "cell_type": "markdown",
   "id": "ab12b6a7-5a8d-4ef9-91ac-8a8a346102b7",
   "metadata": {},
   "source": [
    "Create a tool to generate a random cycle"
   ]
  },
  {
   "cell_type": "code",
   "execution_count": 9,
   "id": "2d467c94-0006-4ce8-891d-8da9888bf712",
   "metadata": {},
   "outputs": [],
   "source": [
    "def cycle_protocol(asoh: ECMASOH, rng: np.random.RandomState, start_time: float = 0.0):\n",
    "    \"\"\"\n",
    "    Function to return list of ECMInputs corresponding to a new cycle\n",
    "\n",
    "    Args: \n",
    "        asoh: A-SOH object to be used\n",
    "        rng: Random number generator\n",
    "        start_time: time at which to start this cycle in seconds\n",
    "    \n",
    "    Yields:\n",
    "        A progression of ECMInputs for the cycle\n",
    "    \"\"\"\n",
    "\n",
    "    # Get the Qt and CE, which will help determine the currents\n",
    "    qt = asoh.q_t.amp_hour\n",
    "    ce = asoh.ce\n",
    "\n",
    "    # Now, let's choose rest durations and C-rates\n",
    "    rest0, rest1, rest2 = rng.integers(low=5, high=10, size=3)\n",
    "    rest0 *= 60\n",
    "    rest1 *= 2 * 60\n",
    "    rest2 *= 60\n",
    "    dischg_rate, chg_rate = np.array([1.5, 0.5]) + rng.random(size=2)\n",
    "\n",
    "    # TODO (wardlt): Victor's original implementation had randomly-sized timesteps\n",
    "    # I've opted to go with fixed size for now\n",
    "    current_time = start_time\n",
    "    def update_timestamps_curr(current_time: float, duration: float, curr: float) -> None:\n",
    "        \"\"\"\n",
    "        Helper to populate timestamps and currents.\n",
    "\n",
    "        Args:\n",
    "            duration: duration of segment in seconds\n",
    "            curr: value of current to be used. \n",
    "        Yields: \n",
    "            A series of ECM inputs at gradually-increaseing times\n",
    "        \"\"\"\n",
    "        steps = int(np.ceil(duration / timestep_duration))\n",
    "        for time in np.linspace(current_time, current_time + duration, steps + 1)[:-1]:\n",
    "            yield ECMInput(time=time, current=curr)\n",
    "\n",
    "    # Rest 0\n",
    "    yield from update_timestamps_curr(current_time, duration=rest0, curr=0.0)\n",
    "    current_time += rest0\n",
    "\n",
    "    # Discharge\n",
    "    dischg_duration = 3600.0 / dischg_rate\n",
    "    dischg_curr = -(qt * dischg_rate)\n",
    "    yield from update_timestamps_curr(current_time, duration=dischg_duration, curr=dischg_curr)\n",
    "    current_time += dischg_duration\n",
    "\n",
    "    # Rest 1\n",
    "    yield from update_timestamps_curr(current_time, duration=rest1, curr=0.0)\n",
    "    current_time += rest1\n",
    "\n",
    "    # Charge\n",
    "    chg_duration = 3600.0 / chg_rate\n",
    "    chg_curr = (qt * chg_rate) / ce\n",
    "    yield from update_timestamps_curr(current_time, duration=chg_duration, curr=chg_curr)\n",
    "    current_time += chg_duration\n",
    "\n",
    "    # Rest 2\n",
    "    yield from update_timestamps_curr(current_time, duration=rest2, curr=0.0)\n",
    "    current_time += rest2"
   ]
  },
  {
   "cell_type": "markdown",
   "id": "036a077a-2443-43da-b28d-38b0b1d06c0b",
   "metadata": {},
   "source": [
    "Simulate a few cycles"
   ]
  },
  {
   "cell_type": "code",
   "execution_count": 10,
   "id": "5e6dd10f-7400-4c00-a97d-4d182d374a04",
   "metadata": {},
   "outputs": [],
   "source": [
    "def run_simulation(num_cycles: int, asoh: ECMASOH, state: ECMTransientVector, seed: int=1) -> Simulator:\n",
    "    \"\"\"Run an ECM simulation for a set number of cycles\n",
    "\n",
    "    Args:\n",
    "        num_cycles: Number of cycles to run\n",
    "        asoh: Initial ASOH\n",
    "        state: Initial transient state\n",
    "        seed: Random seed for the cycling protocol\n",
    "    Returns:\n",
    "        Simulator object ready with history already populated\n",
    "    \"\"\"\n",
    "        \n",
    "    simulator = Simulator(\n",
    "        model=ECM(),\n",
    "        asoh=asoh,\n",
    "        initial_input=ECMInput(),\n",
    "        transient_state=state,\n",
    "        keep_history=True\n",
    "    )\n",
    "    \n",
    "    rng = np.random.default_rng(seed)\n",
    "    start_time = 0.\n",
    "    for cycles in tqdm(range(num_cycles)):\n",
    "        for inputs in cycle_protocol(simulator.asoh, rng, start_time=start_time):\n",
    "            simulator.step(inputs)\n",
    "        start_time = simulator.previous_input.time[0, 0] + timestep_duration\n",
    "    \n",
    "    return simulator"
   ]
  },
  {
   "cell_type": "code",
   "execution_count": 11,
   "id": "c364da67-d81c-441f-a679-cbdda724ae29",
   "metadata": {},
   "outputs": [
    {
     "name": "stderr",
     "output_type": "stream",
     "text": [
      "100%|███████████████████████████████████████████████████████████████████████████████████████████████████████████████████████████████████████████████████████████████████████████| 16/16 [00:06<00:00,  2.39it/s]\n"
     ]
    }
   ],
   "source": [
    "simulator = run_simulation(16, asoh_start, state_start)"
   ]
  },
  {
   "cell_type": "code",
   "execution_count": 12,
   "id": "fec75076-4954-4a4d-977e-ccfec32d0afb",
   "metadata": {},
   "outputs": [],
   "source": [
    "df = simulator.to_dataframe()"
   ]
  },
  {
   "cell_type": "markdown",
   "id": "be5e5573-5264-4293-be36-5c524329e21f",
   "metadata": {},
   "source": [
    "Plot the results"
   ]
  },
  {
   "cell_type": "code",
   "execution_count": 13,
   "id": "4cfc303f-ff5d-48d2-a4cc-6076fd5709a0",
   "metadata": {},
   "outputs": [
    {
     "data": {
      "text/plain": [
       "OpenCircuitVoltage(updatable=set(), ocv_ref=ReferenceOCV(updatable=set(), base_values=array([[3.07231759, 3.32103325, 3.38927981, 3.45823096, 3.54933923,\n",
       "        3.66511634, 3.79791058, 3.93969058, 4.08601002]]), soc_pinpoints=None, interpolation_style='cubic', reference_temperature=array([[25]])), ocv_ent=EntropicOCV(updatable=set(), base_values=array([[0]]), soc_pinpoints=None, interpolation_style='linear'))"
      ]
     },
     "execution_count": 13,
     "metadata": {},
     "output_type": "execute_result"
    }
   ],
   "source": [
    "asoh_start.ocv"
   ]
  },
  {
   "cell_type": "code",
   "execution_count": 14,
   "id": "a75687ca-c650-4176-8566-f4736a4bf12f",
   "metadata": {},
   "outputs": [
    {
     "data": {
      "image/png": "[encoded data removed]",
      "text/plain": [
       "<Figure size 350x250 with 3 Axes>"
      ]
     },
     "metadata": {},
     "output_type": "display_data"
    }
   ],
   "source": [
    "fig, axs = plt.subplots(3, 1, figsize=(3.5, 2.5), sharex=True)\n",
    "\n",
    "for ax, c, yl in zip(axs, ['current', 'soc', 'terminal_voltage'], ['I', 'SOC', 'V']):\n",
    "    ax.plot(df['time'] / 3600, df[c])\n",
    "    ax.set_ylabel(yl)\n",
    "\n",
    "axs[-1].set_xlabel('Time (hr)')\n",
    "fig.tight_layout()"
   ]
  },
  {
   "cell_type": "markdown",
   "id": "7a050315-3281-45f9-a4d4-298adb7dc7f3",
   "metadata": {},
   "source": [
    "## Make A Simple Degredation Model\n",
    "Make the severity of the cycling affect the degradation potential and also splash in some randomness"
   ]
  },
  {
   "cell_type": "code",
   "execution_count": 15,
   "id": "629f1f98-2cb8-4997-b388-38b26c2e32f5",
   "metadata": {},
   "outputs": [],
   "source": [
    "def make_random_degradation_function():\n",
    "    \"\"\"Make a function which generates the capacity and resistance at each cycle\n",
    "\n",
    "    Uses the random variation parameters defined at the beginning of the cycle\n",
    "\n",
    "    Args:\n",
    "        r0: Starting resistance\n",
    "        q_t0: Starting capacity\n",
    "    Return:\n",
    "        Function which returns the fraction capacity loss and resistance increase as a function of cycle.\n",
    "    \"\"\"\n",
    "\n",
    "    # Make the parameters for the q_t model\n",
    "    cyc_q, cyc_r = knee_cycles.rvs()\n",
    "    q_knee = knee_capacity.rvs()\n",
    "    q_m0 = -q_knee / cyc_q\n",
    "    q_mk = min(q_m0, (q_knee - 0.2) / post_knee_cycles.rvs())\n",
    "\n",
    "    # Make the parameters for the r0 model\n",
    "    r_gain = knee_resistance.rvs()\n",
    "    r_m0 = r_gain / cyc_r\n",
    "    r_mk = r_m0 * post_knee_resistance.rvs()\n",
    "\n",
    "    width = knee_width.rvs()\n",
    "    \n",
    "    # Return the function\n",
    "    def degrade_function(n: float):\n",
    "        \"\"\"Return the capacity and resistance as a function of cycle\"\"\"\n",
    "\n",
    "        q_n = q_m0 * n + (q_mk - q_m0) * width * np.log((np.exp(n / width) + np.exp(cyc_q / width)) / ( 1 + np.exp(cyc_q / width)))\n",
    "        r_n = r_m0 * n + (r_mk - r_m0) * width * np.log((np.exp(n / width) + np.exp(cyc_r / width)) / ( 1 + np.exp(cyc_r / width)))\n",
    "        return 1 + q_n, (1 + r_n)\n",
    "\n",
    "    return degrade_function"
   ]
  },
  {
   "cell_type": "code",
   "execution_count": 16,
   "id": "de6f2685-af14-4bf8-b73c-63ee297d0367",
   "metadata": {},
   "outputs": [
    {
     "data": {
      "text/plain": [
       "Text(0.5, 0, 'Cycle')"
      ]
     },
     "execution_count": 16,
     "metadata": {},
     "output_type": "execute_result"
    },
    {
     "data": {
      "image/png": "[encoded data removed]",
      "text/plain": [
       "<Figure size 350x210 with 2 Axes>"
      ]
     },
     "metadata": {},
     "output_type": "display_data"
    }
   ],
   "source": [
    "fig, axs = plt.subplots(2, 1, figsize=(3.5, 2.1), sharex=True)\n",
    "\n",
    "degrade_func = make_random_degradation_function()\n",
    "cycles = np.linspace(0, 1500)\n",
    "\n",
    "cycle_q, cycle_r = degrade_func(cycles)\n",
    "\n",
    "axs[0].plot(cycles, 10 * cycle_q)\n",
    "axs[0].set_ylim(7.8, 10.1)\n",
    "axs[0].set_ylabel('Q')\n",
    "\n",
    "axs[1].plot(cycles, cycle_r)\n",
    "axs[1].set_ylim(0, 4)\n",
    "axs[1].set_ylabel('R')\n",
    "axs[1].set_xlabel('Cycle')"
   ]
  },
  {
   "cell_type": "markdown",
   "id": "32b63758-8f63-455b-a685-603ed93bfa2e",
   "metadata": {},
   "source": [
    "Write a new simulation function which updates the ASOH at each cycle"
   ]
  },
  {
   "cell_type": "code",
   "execution_count": 17,
   "id": "1f8e2ef9-e1a6-4be4-8919-f699ae0deb82",
   "metadata": {},
   "outputs": [],
   "source": [
    "def run_simulation(max_cycles: int, asoh: ECMASOH, state: ECMTransientVector, end_qt: float = 0.79, seed: int=1) -> tuple[Simulator, pd.DataFrame]:\n",
    "    \"\"\"Run an ECM simulation for a set number of cycles\n",
    "\n",
    "    Args:\n",
    "        num_cycles: Maximum number of cycles to run\n",
    "        asoh: Initial ASOH\n",
    "        state: Initial transient state\n",
    "        end_qt: When to stop cycling\n",
    "        seed: Random seed for the cycling protocol\n",
    "    Returns:\n",
    "        - Simulator object ready with history already populated\n",
    "        - Actual ASOH at each frame\n",
    "    \"\"\"\n",
    "\n",
    "    # Get the initial capacity and r0, use them for a cycle\n",
    "    asoh = asoh.model_copy(deep=True)\n",
    "    for r in ['r0.base_values', 'q_t.base_values']:\n",
    "        asoh.mark_updatable(r)\n",
    "    q_t0 = asoh.q_t.base_values.copy()\n",
    "    r0 = asoh.r0.base_values.copy()\n",
    "\n",
    "    # Make the degredatation function\n",
    "    degrade_func = make_random_degradation_function()\n",
    "    \n",
    "    simulator = Simulator(\n",
    "        model=ECM(),\n",
    "        asoh=asoh,\n",
    "        initial_input=ECMInput(),\n",
    "        transient_state=state.model_copy(deep=True),\n",
    "        keep_history=True\n",
    "    )\n",
    "    \n",
    "    rng = np.random.default_rng(seed)\n",
    "    actual_asoh = []\n",
    "    start_time = 0.\n",
    "    cycle_index = [0]\n",
    "    for cycle in range(max_cycles):\n",
    "        actual_asoh.append(simulator.asoh.get_parameters()[0, :])\n",
    "\n",
    "        # Run the cycle\n",
    "        start_steps = len(simulator.input_history)\n",
    "        for inputs in cycle_protocol(simulator.asoh, rng, start_time=start_time):\n",
    "            simulator.step(inputs)\n",
    "        steps_in_cycle = len(simulator.input_history) - start_steps\n",
    "        cycle_index.extend([cycle] * steps_in_cycle)\n",
    "\n",
    "        # Increment the start time used in the cycle generator\n",
    "        start_time = simulator.previous_input.time[0, 0] + timestep_duration\n",
    "\n",
    "        # Adjust the ASOH parameters, with a slight amount of noise\n",
    "        q_factor, r_factor = degrade_func(cycle)\n",
    "        if q_factor < end_qt:\n",
    "            break\n",
    "        simulator.asoh.q_t.base_values = q_t0 * (q_factor + rng.normal(0., 0.00001))  # Adjust by a random amount\n",
    "        simulator.asoh.r0.base_values = r0 * (r_factor + rng.normal(0., 0.001))\n",
    "\n",
    "    # Render the simulated data to a \n",
    "    dataset = simulator.to_batdata(extra_columns=True)[0]\n",
    "    dataset.raw_data['cycle_number'] = cycle_index\n",
    "    return dataset, pd.DataFrame(actual_asoh, columns=[f'actual_{c}' for c in asoh.expand_names(asoh.updatable_names)])"
   ]
  },
  {
   "cell_type": "markdown",
   "id": "31e0bdc2-f28c-4ce0-bfb8-0d4d6098cd0e",
   "metadata": {},
   "source": [
    "Demonstrate on a single cell"
   ]
  },
  {
   "cell_type": "code",
   "execution_count": 18,
   "id": "54ec3a10-ad31-4f7f-8215-02e48939f58a",
   "metadata": {},
   "outputs": [],
   "source": [
    "dataset, actual_asoh = run_simulation(20, asoh_start, state_start)"
   ]
  },
  {
   "cell_type": "code",
   "execution_count": 19,
   "id": "cb5b8614-1668-4ef9-af57-de9dcf85d05a",
   "metadata": {},
   "outputs": [
    {
     "data": {
      "text/plain": [
       "Text(0, 0.5, 'R')"
      ]
     },
     "execution_count": 19,
     "metadata": {},
     "output_type": "execute_result"
    },
    {
     "data": {
      "image/png": "[encoded data removed]",
      "text/plain": [
       "<Figure size 350x230 with 2 Axes>"
      ]
     },
     "metadata": {},
     "output_type": "display_data"
    }
   ],
   "source": [
    "fig, axs = plt.subplots(2, 1, figsize=(3.5, 2.3), sharex=True)\n",
    "\n",
    "axs[0].plot(actual_asoh.index, actual_asoh['actual_q_t.base_values'])\n",
    "axs[0].set_ylabel('Q')\n",
    "axs[1].plot(actual_asoh.index, actual_asoh['actual_r0.base_values[0]'])\n",
    "axs[1].set_ylabel('R')"
   ]
  },
  {
   "cell_type": "markdown",
   "id": "83b8382f-5840-49c5-839b-51e946fdbc9d",
   "metadata": {},
   "source": [
    "Make a function for saving it to disk "
   ]
  },
  {
   "cell_type": "code",
   "execution_count": 20,
   "id": "0e5489ab-bd9c-4d79-bba7-66c1175e0ca6",
   "metadata": {},
   "outputs": [],
   "source": [
    "def to_hdf5(out_path, dataset: BatteryDataset, asoh: ECMASOH, cycle_stats: pd.DataFrame) -> Path:\n",
    "    \"\"\"Save the synthetic data to a uniquely-named data file\n",
    "\n",
    "    Adds the ASOH parameters for the start of the simulation to the header\n",
    "    \n",
    "    Stores any cycle-level measurements to the \n",
    "\n",
    "    Args:\n",
    "        data_dir: Path in which to save HDF5 files\n",
    "        name: Name to use for the file\n",
    "        dataset: Raw data from cycling experiment\n",
    "        asoh: Input parameters\n",
    "        cycle_stats: Any cycle statistics available for the cell\n",
    "    Returns:\n",
    "        Path to the saved file\n",
    "    \"\"\"\n",
    "\n",
    "    # Convert the simulation data to BatData format then add metadata\n",
    "    assert asoh.batch_size == 1, 'I have not implemented batch support'\n",
    "    dataset.cycle_stats = cycle_stats\n",
    "    dataset.metadata.is_measurement = False\n",
    "    dataset.metadata.modeling = ModelMetadata(\n",
    "        name='Moirae',\n",
    "        version=moirae_version,\n",
    "        type='empirical',\n",
    "        models=['BatteryEquivalentCircuitModel'],\n",
    "        parameters={'asoh': asoh_start}\n",
    "    )\n",
    "\n",
    "    # Make a hash based on the metadata\n",
    "    dataset.to_batdata_hdf(out_path, complevel=9)"
   ]
  },
  {
   "cell_type": "markdown",
   "id": "bb9a7483-30fb-4e7c-8511-2874ac0df160",
   "metadata": {},
   "source": [
    "Run for a large number of iterations"
   ]
  },
  {
   "cell_type": "code",
   "execution_count": 21,
   "id": "4c80f3b5-9732-43a2-b155-1bb313cd968a",
   "metadata": {},
   "outputs": [
    {
     "name": "stderr",
     "output_type": "stream",
     "text": [
      "100%|████████████████████████████████████████████████████████████████████████████████████████████████████████████████████████████████████████████████████████████████████████| 64/64 [7:48:18<00:00, 439.04s/it]\n"
     ]
    }
   ],
   "source": [
    "for i in tqdm(range(64)):\n",
    "    # Skip if the file already exists\n",
    "    out_path = output_dir / f'bilinear-{i}.hdf5'\n",
    "    if out_path.exists():\n",
    "        continue\n",
    "    \n",
    "    # Make a new ASOH with slightly different q_t and R_0\n",
    "    my_asoh = asoh_start.model_copy(deep=True)\n",
    "    my_asoh.q_t.base_values *= (1 + np.random.normal(0, 0.01))\n",
    "    my_asoh.r0.base_values *= (1 + np.random.normal(0, 0.01))\n",
    "\n",
    "    # Run the cycling the save to HDF5\n",
    "    dataset, actual_asoh = run_simulation(2000, my_asoh, state_start)\n",
    "    actual_asoh['cycle_number'] = np.arange(len(actual_asoh))\n",
    "    to_hdf5(out_path, dataset, my_asoh, actual_asoh)"
   ]
  },
  {
   "cell_type": "code",
   "execution_count": null,
   "id": "5e8e9399-2f63-430c-90c5-fab6e7fada2a",
   "metadata": {},
   "outputs": [],
   "source": []
  }
 ],
 "metadata": {
  "kernelspec": {
   "display_name": "Python 3 (ipykernel)",
   "language": "python",
   "name": "python3"
  },
  "language_info": {
   "codemirror_mode": {
    "name": "ipython",
    "version": 3
   },
   "file_extension": ".py",
   "mimetype": "text/x-python",
   "name": "python",
   "nbconvert_exporter": "python",
   "pygments_lexer": "ipython3",
   "version": "3.10.14"
  }
 },
 "nbformat": 4,
 "nbformat_minor": 5
}
